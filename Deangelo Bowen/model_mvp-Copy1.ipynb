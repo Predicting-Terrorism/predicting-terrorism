{
 "cells": [
  {
   "cell_type": "code",
   "execution_count": 1,
   "id": "9c8c7f83",
   "metadata": {},
   "outputs": [],
   "source": [
    "import pandas as pd\n",
    "import wrangle as w\n",
    "import explore as e\n",
    "import seaborn as sns\n",
    "\n",
    "\n",
    "from sklearn.model_selection import train_test_split\n",
    "from sklearn.neighbors import KNeighborsClassifier\n",
    "from sklearn.tree import DecisionTreeClassifier, plot_tree\n",
    "from sklearn.metrics import classification_report\n",
    "from sklearn.metrics import confusion_matrix\n",
    "\n",
    "from sklearn.model_selection import train_test_split\n",
    "\n",
    "from functools import reduce\n",
    "\n",
    "import matplotlib.pyplot as plt\n",
    "\n",
    "# importing necessary libraries\n",
    "import pandas as pd\n",
    "import numpy as np\n",
    "\n",
    "\n",
    "from kmodes.kmodes import KModes\n",
    "import matplotlib.pyplot as plt\n",
    "%matplotlib inline"
   ]
  },
  {
   "cell_type": "markdown",
   "id": "cc499ebd",
   "metadata": {},
   "source": [
    "## Recreate model data from model.ipynb notebook"
   ]
  },
  {
   "cell_type": "code",
   "execution_count": 2,
   "id": "030b939c",
   "metadata": {},
   "outputs": [],
   "source": [
    "# acquire dataframe\n",
    "df = w.get_perpetrator_df()\n",
    "\n",
    "# create production dataframe based on the target variables\n",
    "production_df = df[df['gname'].str.contains('Unknown')==True]\n",
    "\n",
    "# create target variable dataframe\n",
    "df1 = df[df['gname'].str.contains('Unknown')==False]\n",
    "\n",
    "# drop columns from the dataframe that arent relevant in the predictor\n",
    "model_df = df1.drop(columns=['event_id',\n",
    "             'month',\n",
    "             'day',\n",
    "             'region',\n",
    "             'latitude',\n",
    "             'longitude',\n",
    "             'success',\n",
    "             'attacktype_n',\n",
    "             'targtype_n',\n",
    "             'targsubtype_n',\n",
    "             'targsubtype',\n",
    "             'corp1',\n",
    "             'target_description',\n",
    "             'nationality',\n",
    "             'claimed',\n",
    "             'weapdesc',\n",
    "             'nkillus',\n",
    "             'nkillter',\n",
    "             'nwound',\n",
    "             'nwoundus',\n",
    "             'nwoundte',\n",
    "             'property'])\n",
    "\n",
    "\n",
    "production_df = production_df.drop(columns=['event_id',\n",
    "             'month',\n",
    "             'day',\n",
    "             'region',\n",
    "             'latitude',\n",
    "             'longitude',\n",
    "             'success',\n",
    "             'attacktype_n',\n",
    "             'targtype_n',\n",
    "             'targsubtype_n',\n",
    "             'targsubtype',\n",
    "             'corp1',\n",
    "             'target_description',\n",
    "             'nationality',\n",
    "             'claimed',\n",
    "             'weapdesc',\n",
    "             'nkillus',\n",
    "             'nkillter',\n",
    "             'nwound',\n",
    "             'nwoundus',\n",
    "             'nwoundte',\n",
    "             'property'])\n",
    "\n",
    "# change year to object type\n",
    "model_df.year = model_df.year.astype('str')\n",
    "production_df.year = production_df.year.astype('str')\n",
    "\n",
    "data = model_df\n"
   ]
  },
  {
   "cell_type": "code",
   "execution_count": 3,
   "id": "0c460089",
   "metadata": {},
   "outputs": [
    {
     "data": {
      "text/plain": [
       "((27630, 10), (13281, 10))"
      ]
     },
     "execution_count": 3,
     "metadata": {},
     "output_type": "execute_result"
    }
   ],
   "source": [
    "production_df.shape, data.shape"
   ]
  },
  {
   "cell_type": "markdown",
   "id": "dccf1bcc",
   "metadata": {},
   "source": [
    "### Scaling"
   ]
  },
  {
   "cell_type": "code",
   "execution_count": 4,
   "id": "ac34f403",
   "metadata": {},
   "outputs": [],
   "source": [
    "# create a dataframe for the gname target variable\n",
    "gnames = pd.DataFrame(data.gname)\n",
    "\n",
    "# create nkill df\n",
    "nkills = pd.DataFrame(data.nkill)\n",
    "\n",
    "# scale nkill\n",
    "from sklearn.preprocessing import MinMaxScaler\n",
    "scaler = MinMaxScaler()\n",
    "\n",
    "scaler.fit(nkills)\n",
    "nkills = pd.DataFrame(scaler.transform(nkills))\n",
    "nkills = nkills.rename(columns={0:'nkill'})"
   ]
  },
  {
   "cell_type": "code",
   "execution_count": 5,
   "id": "341a533d",
   "metadata": {},
   "outputs": [
    {
     "data": {
      "text/plain": [
       "(13281, 13281, 13281)"
      ]
     },
     "execution_count": 5,
     "metadata": {},
     "output_type": "execute_result"
    }
   ],
   "source": [
    "data.shape[0], gnames.shape[0], nkills.shape[0]"
   ]
  },
  {
   "cell_type": "markdown",
   "id": "c88e414a",
   "metadata": {},
   "source": [
    "### Dummy df"
   ]
  },
  {
   "cell_type": "code",
   "execution_count": 6,
   "id": "c5cc6b70",
   "metadata": {},
   "outputs": [],
   "source": [
    "# encode variables\n",
    "dummy_df = pd.get_dummies(model_df[['country',\n",
    "                                    'provstate',\n",
    "                                    'city',\n",
    "                                    'suicide',\n",
    "                                    'attack_type', \n",
    "                                    'targtype',  \n",
    "                                    'weaptype',\n",
    "                                    'year']], dummy_na=False, drop_first=[True, True])"
   ]
  },
  {
   "cell_type": "code",
   "execution_count": 7,
   "id": "0a79abe1",
   "metadata": {},
   "outputs": [
    {
     "data": {
      "text/plain": [
       "RangeIndex(start=0, stop=13281, step=1)"
      ]
     },
     "execution_count": 7,
     "metadata": {},
     "output_type": "execute_result"
    }
   ],
   "source": [
    "dummy_df = dummy_df.reset_index(drop=True)\n",
    "dummy_df.index"
   ]
  },
  {
   "cell_type": "code",
   "execution_count": 8,
   "id": "33b9f6ca",
   "metadata": {},
   "outputs": [
    {
     "data": {
      "text/plain": [
       "RangeIndex(start=0, stop=13281, step=1)"
      ]
     },
     "execution_count": 8,
     "metadata": {},
     "output_type": "execute_result"
    }
   ],
   "source": [
    "gnames = gnames.reset_index(drop=True)\n",
    "gnames.index"
   ]
  },
  {
   "cell_type": "code",
   "execution_count": 9,
   "id": "594c748d",
   "metadata": {},
   "outputs": [],
   "source": [
    "# add target to dataframe\n",
    "dummy_df = pd.concat([dummy_df, gnames, nkills], axis=1)"
   ]
  },
  {
   "cell_type": "code",
   "execution_count": 10,
   "id": "1df7ca54",
   "metadata": {},
   "outputs": [
    {
     "data": {
      "text/plain": [
       "(13281, 3451)"
      ]
     },
     "execution_count": 10,
     "metadata": {},
     "output_type": "execute_result"
    }
   ],
   "source": [
    "dummy_df.shape"
   ]
  },
  {
   "cell_type": "markdown",
   "id": "7842c789",
   "metadata": {},
   "source": [
    "---"
   ]
  },
  {
   "cell_type": "markdown",
   "id": "6e39a2ce",
   "metadata": {},
   "source": [
    "### Production Data Block"
   ]
  },
  {
   "cell_type": "code",
   "execution_count": 11,
   "id": "1f657909",
   "metadata": {},
   "outputs": [],
   "source": [
    "# size difference between prod df and og model df"
   ]
  },
  {
   "cell_type": "code",
   "execution_count": 12,
   "id": "c5063eeb",
   "metadata": {
    "scrolled": false
   },
   "outputs": [
    {
     "data": {
      "text/html": [
       "<div>\n",
       "<style scoped>\n",
       "    .dataframe tbody tr th:only-of-type {\n",
       "        vertical-align: middle;\n",
       "    }\n",
       "\n",
       "    .dataframe tbody tr th {\n",
       "        vertical-align: top;\n",
       "    }\n",
       "\n",
       "    .dataframe thead th {\n",
       "        text-align: right;\n",
       "    }\n",
       "</style>\n",
       "<table border=\"1\" class=\"dataframe\">\n",
       "  <thead>\n",
       "    <tr style=\"text-align: right;\">\n",
       "      <th></th>\n",
       "      <th>year</th>\n",
       "      <th>country</th>\n",
       "      <th>provstate</th>\n",
       "      <th>city</th>\n",
       "      <th>suicide</th>\n",
       "      <th>attack_type</th>\n",
       "      <th>targtype</th>\n",
       "      <th>gname</th>\n",
       "      <th>weaptype</th>\n",
       "      <th>nkill</th>\n",
       "    </tr>\n",
       "    <tr>\n",
       "      <th>date</th>\n",
       "      <th></th>\n",
       "      <th></th>\n",
       "      <th></th>\n",
       "      <th></th>\n",
       "      <th></th>\n",
       "      <th></th>\n",
       "      <th></th>\n",
       "      <th></th>\n",
       "      <th></th>\n",
       "      <th></th>\n",
       "    </tr>\n",
       "  </thead>\n",
       "  <tbody>\n",
       "    <tr>\n",
       "      <th>2001-01-01</th>\n",
       "      <td>2001</td>\n",
       "      <td>turkey</td>\n",
       "      <td>Istanbul</td>\n",
       "      <td>Istanbul</td>\n",
       "      <td>0</td>\n",
       "      <td>Bombing/Explosion</td>\n",
       "      <td>Private Citizens &amp; Property</td>\n",
       "      <td>Unknown</td>\n",
       "      <td>Explosives</td>\n",
       "      <td>0.0</td>\n",
       "    </tr>\n",
       "  </tbody>\n",
       "</table>\n",
       "</div>"
      ],
      "text/plain": [
       "            year country provstate      city  suicide        attack_type  \\\n",
       "date                                                                       \n",
       "2001-01-01  2001  turkey  Istanbul  Istanbul        0  Bombing/Explosion   \n",
       "\n",
       "                               targtype    gname    weaptype  nkill  \n",
       "date                                                                 \n",
       "2001-01-01  Private Citizens & Property  Unknown  Explosives    0.0  "
      ]
     },
     "execution_count": 12,
     "metadata": {},
     "output_type": "execute_result"
    }
   ],
   "source": [
    "production_df.head(1)"
   ]
  },
  {
   "cell_type": "code",
   "execution_count": 13,
   "id": "af404324",
   "metadata": {
    "scrolled": true
   },
   "outputs": [],
   "source": [
    "# create a dataframe for the gname target variable\n",
    "gnames2 = pd.DataFrame(production_df.gname)\n",
    "\n",
    "# create nkill df\n",
    "nkills2 = pd.DataFrame(production_df.nkill)\n",
    "\n",
    "scaler2 = MinMaxScaler()\n",
    "\n",
    "scaler2.fit(nkills2)\n",
    "nkills2 = nkills2.rename(columns={0:'nkill'})"
   ]
  },
  {
   "cell_type": "code",
   "execution_count": 14,
   "id": "c064376b",
   "metadata": {},
   "outputs": [],
   "source": [
    "# encode variables\n",
    "dummy_df2 = pd.get_dummies(production_df[['country',\n",
    "                                    'provstate',\n",
    "                                    'city',\n",
    "                                    'suicide',\n",
    "                                    'attack_type', \n",
    "                                    'targtype',  \n",
    "                                    'weaptype',\n",
    "                                    'year']], dummy_na=False, drop_first=[True, True])"
   ]
  },
  {
   "cell_type": "code",
   "execution_count": 15,
   "id": "4c2969d5",
   "metadata": {
    "scrolled": true
   },
   "outputs": [
    {
     "data": {
      "text/plain": [
       "RangeIndex(start=0, stop=27630, step=1)"
      ]
     },
     "execution_count": 15,
     "metadata": {},
     "output_type": "execute_result"
    }
   ],
   "source": [
    "gnames2 = gnames2.reset_index(drop=True)\n",
    "gnames2.index"
   ]
  },
  {
   "cell_type": "code",
   "execution_count": 16,
   "id": "2db3c71c",
   "metadata": {
    "scrolled": true
   },
   "outputs": [
    {
     "data": {
      "text/plain": [
       "RangeIndex(start=0, stop=27630, step=1)"
      ]
     },
     "execution_count": 16,
     "metadata": {},
     "output_type": "execute_result"
    }
   ],
   "source": [
    "dummy_df2 = dummy_df2.reset_index(drop=True)\n",
    "dummy_df2.index"
   ]
  },
  {
   "cell_type": "code",
   "execution_count": 17,
   "id": "d13b2df9",
   "metadata": {},
   "outputs": [
    {
     "data": {
      "text/plain": [
       "RangeIndex(start=0, stop=27630, step=1)"
      ]
     },
     "execution_count": 17,
     "metadata": {},
     "output_type": "execute_result"
    }
   ],
   "source": [
    "nkills2 = nkills2.reset_index(drop=True)\n",
    "nkills2.index"
   ]
  },
  {
   "cell_type": "code",
   "execution_count": 18,
   "id": "fe777576",
   "metadata": {
    "scrolled": true
   },
   "outputs": [
    {
     "data": {
      "text/plain": [
       "((27630, 1), (27630, 1), (27630, 4560))"
      ]
     },
     "execution_count": 18,
     "metadata": {},
     "output_type": "execute_result"
    }
   ],
   "source": [
    "gnames2.shape, nkills2.shape, dummy_df2.shape"
   ]
  },
  {
   "cell_type": "code",
   "execution_count": 19,
   "id": "b824c2ba",
   "metadata": {},
   "outputs": [],
   "source": [
    "# add target to dataframe\n",
    "dummy_df2 = pd.concat([dummy_df2, gnames2, nkills2], axis=1)"
   ]
  },
  {
   "cell_type": "markdown",
   "id": "a8b3508b",
   "metadata": {},
   "source": [
    "### TTS"
   ]
  },
  {
   "cell_type": "markdown",
   "id": "58d58b30",
   "metadata": {},
   "source": [
    "#### Prod DF Size"
   ]
  },
  {
   "cell_type": "code",
   "execution_count": 26,
   "id": "d710f7c4",
   "metadata": {},
   "outputs": [],
   "source": [
    "#X_train2= train2.drop(columns=['gname'])\n",
    "#y_train2 = train2.gname\n",
    "\n",
    "#X_validate2 = validate2.drop(columns=['gname'])\n",
    "#y_validate2 = validate2.gname\n",
    "\n",
    "X_test2 = dummy_df2.drop(columns=['gname'])\n",
    "y_test2 = dummy_df2.gname"
   ]
  },
  {
   "cell_type": "code",
   "execution_count": 27,
   "id": "2e11bdeb",
   "metadata": {},
   "outputs": [
    {
     "data": {
      "text/plain": [
       "((27630, 4561), (27630,))"
      ]
     },
     "execution_count": 27,
     "metadata": {},
     "output_type": "execute_result"
    }
   ],
   "source": [
    "X_test2.shape, y_test2.shape"
   ]
  },
  {
   "cell_type": "markdown",
   "id": "a27fa1b0",
   "metadata": {},
   "source": [
    "#### OG DF Size"
   ]
  },
  {
   "cell_type": "code",
   "execution_count": 28,
   "id": "50be48fb",
   "metadata": {},
   "outputs": [],
   "source": [
    "def train_validate_test_split(df, target, seed=123):\n",
    "    '''\n",
    "    This function takes in a dataframe, the name of the target variable\n",
    "    (for stratification purposes), and an integer for a setting a seed\n",
    "    and splits the data into train, validate and test. \n",
    "    Test is 20% of the original dataset, validate is .30*.80= 24% of the \n",
    "    original dataset, and train is .70*.80= 56% of the original dataset. \n",
    "    The function returns, in this order, train, validate and test dataframes. \n",
    "    '''\n",
    "    train_validate, test = train_test_split(df, test_size=0.27, \n",
    "                                            random_state=seed, \n",
    "                                            stratify=df[target])\n",
    "    train, validate = train_test_split(train_validate, test_size=0.35, \n",
    "                                       random_state=seed,\n",
    "                                       stratify=train_validate[target])\n",
    "    return train, validate, test"
   ]
  },
  {
   "cell_type": "code",
   "execution_count": 29,
   "id": "ad629731",
   "metadata": {},
   "outputs": [],
   "source": [
    "# split into train, validate, test\n",
    "train, validate, test = train_validate_test_split(dummy_df, target='gname', seed=123)\n",
    "\n",
    "# create X & y version of train, where y is a series with just the target variable and X are all the features. \n",
    "\n",
    "X_train= train.drop(columns=['gname'])\n",
    "y_train = train.gname\n",
    "\n",
    "X_validate = validate.drop(columns=['gname'])\n",
    "y_validate = validate.gname\n",
    "\n",
    "X_test = test.drop(columns=['gname'])\n",
    "y_test = test.gname"
   ]
  },
  {
   "cell_type": "code",
   "execution_count": 30,
   "id": "426335bc",
   "metadata": {},
   "outputs": [
    {
     "data": {
      "text/plain": [
       "((6301, 3450), (3394, 3450), (3586, 3450))"
      ]
     },
     "execution_count": 30,
     "metadata": {},
     "output_type": "execute_result"
    }
   ],
   "source": [
    "X_train.shape, X_validate.shape, X_test.shape"
   ]
  },
  {
   "cell_type": "markdown",
   "id": "8e52c802",
   "metadata": {},
   "source": [
    "---"
   ]
  },
  {
   "cell_type": "markdown",
   "id": "e97aa512",
   "metadata": {},
   "source": [
    "### Create Model"
   ]
  },
  {
   "cell_type": "code",
   "execution_count": 46,
   "id": "524efda6",
   "metadata": {},
   "outputs": [
    {
     "name": "stdout",
     "output_type": "stream",
     "text": [
      "Accuracy of Decision Tree classifier on training set: 0.89\n"
     ]
    }
   ],
   "source": [
    "# for classification you can change the algorithm to gini or entropy (information gain).  \n",
    "# Default is gini.\n",
    "\n",
    "clf = DecisionTreeClassifier(max_depth=4, random_state=123)\n",
    "\n",
    "# model.fit(X, y)\n",
    "\n",
    "clf = clf.fit(X_train, y_train)\n",
    "\n",
    "# make prediction on train obeservations\n",
    "\n",
    "y_pred = clf.predict(X_train)\n",
    "\n",
    "# y_pred_proba = clf.predict_proba(X_train2)\n",
    "\n",
    "# Eval model\n",
    "print('Accuracy of Decision Tree classifier on training set: {:.2f}'\n",
    "      .format(clf.score(X_train, y_train)))"
   ]
  },
  {
   "cell_type": "code",
   "execution_count": 49,
   "id": "125a323a",
   "metadata": {},
   "outputs": [
    {
     "data": {
      "text/html": [
       "<div>\n",
       "<style scoped>\n",
       "    .dataframe tbody tr th:only-of-type {\n",
       "        vertical-align: middle;\n",
       "    }\n",
       "\n",
       "    .dataframe tbody tr th {\n",
       "        vertical-align: top;\n",
       "    }\n",
       "\n",
       "    .dataframe thead th {\n",
       "        text-align: right;\n",
       "    }\n",
       "</style>\n",
       "<table border=\"1\" class=\"dataframe\">\n",
       "  <thead>\n",
       "    <tr style=\"text-align: right;\">\n",
       "      <th></th>\n",
       "      <th>0</th>\n",
       "    </tr>\n",
       "  </thead>\n",
       "  <tbody>\n",
       "    <tr>\n",
       "      <th>0</th>\n",
       "      <td>Islamic State of Iraq and the Levant (ISIL)</td>\n",
       "    </tr>\n",
       "    <tr>\n",
       "      <th>1</th>\n",
       "      <td>Islamic State of Iraq and the Levant (ISIL)</td>\n",
       "    </tr>\n",
       "    <tr>\n",
       "      <th>2</th>\n",
       "      <td>Taliban</td>\n",
       "    </tr>\n",
       "    <tr>\n",
       "      <th>3</th>\n",
       "      <td>Kurdistan Workers' Party (PKK)</td>\n",
       "    </tr>\n",
       "    <tr>\n",
       "      <th>4</th>\n",
       "      <td>Taliban</td>\n",
       "    </tr>\n",
       "    <tr>\n",
       "      <th>...</th>\n",
       "      <td>...</td>\n",
       "    </tr>\n",
       "    <tr>\n",
       "      <th>6296</th>\n",
       "      <td>Islamic State of Iraq and the Levant (ISIL)</td>\n",
       "    </tr>\n",
       "    <tr>\n",
       "      <th>6297</th>\n",
       "      <td>Taliban</td>\n",
       "    </tr>\n",
       "    <tr>\n",
       "      <th>6298</th>\n",
       "      <td>Al-Shabaab</td>\n",
       "    </tr>\n",
       "    <tr>\n",
       "      <th>6299</th>\n",
       "      <td>Al-Shabaab</td>\n",
       "    </tr>\n",
       "    <tr>\n",
       "      <th>6300</th>\n",
       "      <td>Al-Shabaab</td>\n",
       "    </tr>\n",
       "  </tbody>\n",
       "</table>\n",
       "<p>6301 rows × 1 columns</p>\n",
       "</div>"
      ],
      "text/plain": [
       "                                                0\n",
       "0     Islamic State of Iraq and the Levant (ISIL)\n",
       "1     Islamic State of Iraq and the Levant (ISIL)\n",
       "2                                         Taliban\n",
       "3                  Kurdistan Workers' Party (PKK)\n",
       "4                                         Taliban\n",
       "...                                           ...\n",
       "6296  Islamic State of Iraq and the Levant (ISIL)\n",
       "6297                                      Taliban\n",
       "6298                                   Al-Shabaab\n",
       "6299                                   Al-Shabaab\n",
       "6300                                   Al-Shabaab\n",
       "\n",
       "[6301 rows x 1 columns]"
      ]
     },
     "execution_count": 49,
     "metadata": {},
     "output_type": "execute_result"
    }
   ],
   "source": [
    "pd.DataFrame(y_pred)"
   ]
  },
  {
   "cell_type": "code",
   "execution_count": 32,
   "id": "67eeabc5",
   "metadata": {
    "scrolled": true
   },
   "outputs": [
    {
     "data": {
      "text/html": [
       "<div>\n",
       "<style scoped>\n",
       "    .dataframe tbody tr th:only-of-type {\n",
       "        vertical-align: middle;\n",
       "    }\n",
       "\n",
       "    .dataframe tbody tr th {\n",
       "        vertical-align: top;\n",
       "    }\n",
       "\n",
       "    .dataframe thead th {\n",
       "        text-align: right;\n",
       "    }\n",
       "</style>\n",
       "<table border=\"1\" class=\"dataframe\">\n",
       "  <thead>\n",
       "    <tr style=\"text-align: right;\">\n",
       "      <th></th>\n",
       "      <th>max_depth</th>\n",
       "      <th>train_accuracy</th>\n",
       "      <th>validate_accuracy</th>\n",
       "      <th>difference</th>\n",
       "    </tr>\n",
       "  </thead>\n",
       "  <tbody>\n",
       "    <tr>\n",
       "      <th>0</th>\n",
       "      <td>1</td>\n",
       "      <td>0.607205</td>\n",
       "      <td>0.606364</td>\n",
       "      <td>0.000841</td>\n",
       "    </tr>\n",
       "    <tr>\n",
       "      <th>1</th>\n",
       "      <td>2</td>\n",
       "      <td>0.745437</td>\n",
       "      <td>0.746022</td>\n",
       "      <td>-0.000585</td>\n",
       "    </tr>\n",
       "    <tr>\n",
       "      <th>2</th>\n",
       "      <td>3</td>\n",
       "      <td>0.820187</td>\n",
       "      <td>0.819976</td>\n",
       "      <td>0.000211</td>\n",
       "    </tr>\n",
       "    <tr>\n",
       "      <th>3</th>\n",
       "      <td>4</td>\n",
       "      <td>0.887002</td>\n",
       "      <td>0.886859</td>\n",
       "      <td>0.000143</td>\n",
       "    </tr>\n",
       "    <tr>\n",
       "      <th>4</th>\n",
       "      <td>5</td>\n",
       "      <td>0.931598</td>\n",
       "      <td>0.930760</td>\n",
       "      <td>0.000838</td>\n",
       "    </tr>\n",
       "    <tr>\n",
       "      <th>5</th>\n",
       "      <td>6</td>\n",
       "      <td>0.959372</td>\n",
       "      <td>0.957572</td>\n",
       "      <td>0.001799</td>\n",
       "    </tr>\n",
       "    <tr>\n",
       "      <th>6</th>\n",
       "      <td>7</td>\n",
       "      <td>0.965402</td>\n",
       "      <td>0.960224</td>\n",
       "      <td>0.005178</td>\n",
       "    </tr>\n",
       "    <tr>\n",
       "      <th>7</th>\n",
       "      <td>8</td>\n",
       "      <td>0.967942</td>\n",
       "      <td>0.959929</td>\n",
       "      <td>0.008012</td>\n",
       "    </tr>\n",
       "    <tr>\n",
       "      <th>8</th>\n",
       "      <td>9</td>\n",
       "      <td>0.972703</td>\n",
       "      <td>0.959929</td>\n",
       "      <td>0.012773</td>\n",
       "    </tr>\n",
       "    <tr>\n",
       "      <th>9</th>\n",
       "      <td>10</td>\n",
       "      <td>0.976036</td>\n",
       "      <td>0.964054</td>\n",
       "      <td>0.011981</td>\n",
       "    </tr>\n",
       "    <tr>\n",
       "      <th>10</th>\n",
       "      <td>11</td>\n",
       "      <td>0.980479</td>\n",
       "      <td>0.964054</td>\n",
       "      <td>0.016425</td>\n",
       "    </tr>\n",
       "    <tr>\n",
       "      <th>11</th>\n",
       "      <td>12</td>\n",
       "      <td>0.984606</td>\n",
       "      <td>0.965527</td>\n",
       "      <td>0.019078</td>\n",
       "    </tr>\n",
       "    <tr>\n",
       "      <th>12</th>\n",
       "      <td>13</td>\n",
       "      <td>0.986510</td>\n",
       "      <td>0.966117</td>\n",
       "      <td>0.020393</td>\n",
       "    </tr>\n",
       "    <tr>\n",
       "      <th>13</th>\n",
       "      <td>14</td>\n",
       "      <td>0.988256</td>\n",
       "      <td>0.967885</td>\n",
       "      <td>0.020371</td>\n",
       "    </tr>\n",
       "  </tbody>\n",
       "</table>\n",
       "</div>"
      ],
      "text/plain": [
       "    max_depth  train_accuracy  validate_accuracy  difference\n",
       "0           1        0.607205           0.606364    0.000841\n",
       "1           2        0.745437           0.746022   -0.000585\n",
       "2           3        0.820187           0.819976    0.000211\n",
       "3           4        0.887002           0.886859    0.000143\n",
       "4           5        0.931598           0.930760    0.000838\n",
       "5           6        0.959372           0.957572    0.001799\n",
       "6           7        0.965402           0.960224    0.005178\n",
       "7           8        0.967942           0.959929    0.008012\n",
       "8           9        0.972703           0.959929    0.012773\n",
       "9          10        0.976036           0.964054    0.011981\n",
       "10         11        0.980479           0.964054    0.016425\n",
       "11         12        0.984606           0.965527    0.019078\n",
       "12         13        0.986510           0.966117    0.020393\n",
       "13         14        0.988256           0.967885    0.020371"
      ]
     },
     "execution_count": 32,
     "metadata": {},
     "output_type": "execute_result"
    }
   ],
   "source": [
    "metrics = []\n",
    "for i in range(1, 15):\n",
    "    tree = DecisionTreeClassifier(max_depth=i, random_state=17)\n",
    "    tree = tree.fit(X_train, y_train)\n",
    "    in_sample_accuracy = tree.score(X_train, y_train)\n",
    "    \n",
    "    out_of_sample_accuracy = tree.score(X_validate, y_validate)\n",
    "    output = {\n",
    "        \"max_depth\": i,\n",
    "        \"train_accuracy\": in_sample_accuracy,\n",
    "        \"validate_accuracy\": out_of_sample_accuracy\n",
    "    }\n",
    "    \n",
    "    metrics.append(output)\n",
    "    \n",
    "dt_df = pd.DataFrame(metrics)\n",
    "dt_df[\"difference\"] = dt_df.train_accuracy - dt_df.validate_accuracy\n",
    "dt_df"
   ]
  },
  {
   "cell_type": "code",
   "execution_count": 35,
   "id": "31b45134",
   "metadata": {},
   "outputs": [
    {
     "ename": "NameError",
     "evalue": "name 'logit' is not defined",
     "output_type": "error",
     "traceback": [
      "\u001b[0;31m---------------------------------------------------------------------------\u001b[0m",
      "\u001b[0;31mNameError\u001b[0m                                 Traceback (most recent call last)",
      "\u001b[0;32m/var/folders/l0/pspylhjn0gv1mxwxjp023m0m0000gn/T/ipykernel_63505/4227474499.py\u001b[0m in \u001b[0;36m<module>\u001b[0;34m\u001b[0m\n\u001b[0;32m----> 1\u001b[0;31m \u001b[0my_pred\u001b[0m \u001b[0;34m=\u001b[0m \u001b[0mlogit\u001b[0m\u001b[0;34m.\u001b[0m\u001b[0mpredict\u001b[0m\u001b[0;34m(\u001b[0m\u001b[0mX_test\u001b[0m\u001b[0;34m)\u001b[0m\u001b[0;34m\u001b[0m\u001b[0;34m\u001b[0m\u001b[0m\n\u001b[0m",
      "\u001b[0;31mNameError\u001b[0m: name 'logit' is not defined"
     ]
    }
   ],
   "source": [
    "y_pred = logit.predict(X_test)"
   ]
  },
  {
   "cell_type": "code",
   "execution_count": 33,
   "id": "76494422",
   "metadata": {
    "scrolled": false
   },
   "outputs": [
    {
     "data": {
      "image/png": "[encoded data removed]",
      "text/plain": [
       "<Figure size 1800x1440 with 1 Axes>"
      ]
     },
     "metadata": {},
     "output_type": "display_data"
    }
   ],
   "source": [
    "plt.rcParams['figure.figsize'] = [25, 20]\n",
    "sns.set(font_scale = 3)\n",
    "dt_df[['train_accuracy', 'validate_accuracy', 'difference' ]].plot()\n",
    "plt.title(\"Decision Tree Model Accuracies\")\n",
    "plt.ylabel(\"Accuracy\")\n",
    "plt.xlabel(\"Max Depth\")\n",
    "plt.vlines(x=[21], ymin=0, ymax=.8, colors='r', linestyles='dashed')\n",
    "plt.show()"
   ]
  },
  {
   "cell_type": "code",
   "execution_count": 34,
   "id": "436bf16c",
   "metadata": {},
   "outputs": [
    {
     "data": {
      "text/plain": [
       "0.9662576687116564"
      ]
     },
     "execution_count": 34,
     "metadata": {},
     "output_type": "execute_result"
    }
   ],
   "source": [
    "tree = DecisionTreeClassifier(max_depth=14, random_state=123)\n",
    "\n",
    "tree = tree.fit(X_train, y_train)\n",
    "\n",
    "tree.score(X_test, y_test)"
   ]
  },
  {
   "cell_type": "code",
   "execution_count": null,
   "id": "6bfcabd6",
   "metadata": {},
   "outputs": [],
   "source": []
  }
 ],
 "metadata": {
  "kernelspec": {
   "display_name": "Python 3 (ipykernel)",
   "language": "python",
   "name": "python3"
  },
  "language_info": {
   "codemirror_mode": {
    "name": "ipython",
    "version": 3
   },
   "file_extension": ".py",
   "mimetype": "text/x-python",
   "name": "python",
   "nbconvert_exporter": "python",
   "pygments_lexer": "ipython3",
   "version": "3.9.7"
  }
 },
 "nbformat": 4,
 "nbformat_minor": 5
}
