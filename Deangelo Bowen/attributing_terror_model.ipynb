{
 "cells": [
  {
   "cell_type": "code",
   "execution_count": 1,
   "id": "9c8c7f83",
   "metadata": {},
   "outputs": [],
   "source": [
    "import pandas as pd\n",
    "import wrangle as w\n",
    "import explore as e\n",
    "import seaborn as sns\n",
    "\n",
    "\n",
    "from sklearn.model_selection import train_test_split\n",
    "from sklearn.neighbors import KNeighborsClassifier\n",
    "from sklearn.tree import DecisionTreeClassifier, plot_tree\n",
    "from sklearn.metrics import classification_report\n",
    "from sklearn.metrics import confusion_matrix\n",
    "\n",
    "from sklearn.model_selection import train_test_split\n",
    "\n",
    "from functools import reduce\n",
    "\n",
    "import matplotlib.pyplot as plt\n",
    "\n",
    "# importing necessary libraries\n",
    "import pandas as pd\n",
    "import numpy as np\n",
    "\n",
    "\n",
    "from kmodes.kmodes import KModes\n",
    "import matplotlib.pyplot as plt\n",
    "%matplotlib inline"
   ]
  },
  {
   "cell_type": "markdown",
   "id": "cc499ebd",
   "metadata": {},
   "source": [
    "## Recreate model data from model.ipynb notebook"
   ]
  },
  {
   "cell_type": "code",
   "execution_count": 2,
   "id": "030b939c",
   "metadata": {},
   "outputs": [],
   "source": [
    "# acquire dataframe\n",
    "df = w.get_perpetrator_df()\n",
    "\n",
    "# create production dataframe based on the target variables\n",
    "production_df = df[df['gname'].str.contains('Unknown')==True]\n",
    "\n",
    "# create target variable dataframe\n",
    "df1 = df[df['gname'].str.contains('Unknown')==False]\n",
    "\n",
    "# drop columns from the dataframe that arent relevant in the predictor\n",
    "model_df = df1.drop(columns=['event_id',\n",
    "             'month',\n",
    "             'day',\n",
    "             'region',\n",
    "             'latitude',\n",
    "             'longitude',\n",
    "             'success',\n",
    "             'attacktype_n',\n",
    "             'targtype_n',\n",
    "             'targsubtype_n',\n",
    "             'targsubtype',\n",
    "             'corp1',\n",
    "             'target_description',\n",
    "             'nationality',\n",
    "             'claimed',\n",
    "             'weapdesc',\n",
    "             'nkillus',\n",
    "             'nkillter',\n",
    "             'nwound',\n",
    "             'nwoundus',\n",
    "             'nwoundte',\n",
    "             'property'])\n",
    "\n",
    "\n",
    "production_df2 = production_df.drop(columns=['event_id',\n",
    "             'region',\n",
    "             'success',\n",
    "             'attacktype_n',\n",
    "             'targtype_n',\n",
    "             'targsubtype_n',\n",
    "             'targsubtype',\n",
    "             'corp1',\n",
    "             'target_description',\n",
    "             'nationality',\n",
    "             'claimed',\n",
    "             'weapdesc',\n",
    "             'nkillus',\n",
    "             'nkillter',\n",
    "             'nwound',\n",
    "             'nwoundus',\n",
    "             'nwoundte',\n",
    "             'property'])\n",
    "\n",
    "\n",
    "production_df = production_df.drop(columns=['event_id',\n",
    "             'month',\n",
    "             'day',\n",
    "             'region',\n",
    "             'latitude',\n",
    "             'longitude',\n",
    "             'success',\n",
    "             'attacktype_n',\n",
    "             'targtype_n',\n",
    "             'targsubtype_n',\n",
    "             'targsubtype',\n",
    "             'corp1',\n",
    "             'target_description',\n",
    "             'nationality',\n",
    "             'claimed',\n",
    "             'weapdesc',\n",
    "             'nkillus',\n",
    "             'nkillter',\n",
    "             'nwound',\n",
    "             'nwoundus',\n",
    "             'nwoundte',\n",
    "             'property'])\n",
    "\n",
    "# change year to object type\n",
    "model_df.year = model_df.year.astype('str')\n",
    "production_df.year = production_df.year.astype('str')\n",
    "\n",
    "data = model_df\n"
   ]
  },
  {
   "cell_type": "markdown",
   "id": "de292b08",
   "metadata": {},
   "source": [
    "### Check differences in DFs"
   ]
  },
  {
   "cell_type": "markdown",
   "id": "621c1ad1",
   "metadata": {},
   "source": [
    "#### Provstate from prod_df to data"
   ]
  },
  {
   "cell_type": "code",
   "execution_count": 31,
   "id": "2cbf7ea7",
   "metadata": {},
   "outputs": [
    {
     "data": {
      "text/plain": [
       "0"
      ]
     },
     "execution_count": 31,
     "metadata": {},
     "output_type": "execute_result"
    }
   ],
   "source": [
    "y = set(production_df['provstate'])\n",
    "x = set(data['provstate'])\n",
    "\n",
    "prov_diff = y.difference(x)\n",
    "prov_diff = list(prov_diff)\n",
    "len(prov_diff)"
   ]
  },
  {
   "cell_type": "markdown",
   "id": "387e4b72",
   "metadata": {},
   "source": [
    "#### Data to prod_df"
   ]
  },
  {
   "cell_type": "code",
   "execution_count": 32,
   "id": "9586572f",
   "metadata": {
    "scrolled": false
   },
   "outputs": [
    {
     "data": {
      "text/plain": [
       "0"
      ]
     },
     "execution_count": 32,
     "metadata": {},
     "output_type": "execute_result"
    }
   ],
   "source": [
    "y = set(production_df['provstate'])\n",
    "x = set(data['provstate'])\n",
    "\n",
    "prov_diff2 = x.difference(y)\n",
    "prov_diff2 = list(prov_diff2)\n",
    "len(prov_diff2)"
   ]
  },
  {
   "cell_type": "markdown",
   "id": "80fc15f5",
   "metadata": {},
   "source": [
    "#### City from prod_df to data"
   ]
  },
  {
   "cell_type": "code",
   "execution_count": 33,
   "id": "5f80c8f0",
   "metadata": {},
   "outputs": [
    {
     "data": {
      "text/plain": [
       "0"
      ]
     },
     "execution_count": 33,
     "metadata": {},
     "output_type": "execute_result"
    }
   ],
   "source": [
    "y = set(production_df['city'])\n",
    "x = set(data['city'])\n",
    "\n",
    "city_diff = y.difference(x)\n",
    "city_diff = list(city_diff)\n",
    "len(city_diff)"
   ]
  },
  {
   "cell_type": "markdown",
   "id": "2cd8df32",
   "metadata": {},
   "source": [
    "#### city from data to prod"
   ]
  },
  {
   "cell_type": "code",
   "execution_count": 34,
   "id": "b052c473",
   "metadata": {},
   "outputs": [
    {
     "data": {
      "text/plain": [
       "0"
      ]
     },
     "execution_count": 34,
     "metadata": {},
     "output_type": "execute_result"
    }
   ],
   "source": [
    "y = set(production_df['city'])\n",
    "x = set(data['city'])\n",
    "\n",
    "city_diff2 = x.difference(y)\n",
    "city_diff2 = list(city_diff2)\n",
    "len(city_diff2)"
   ]
  },
  {
   "cell_type": "markdown",
   "id": "0b270b71",
   "metadata": {},
   "source": [
    "---"
   ]
  },
  {
   "cell_type": "code",
   "execution_count": 26,
   "id": "5cd96980",
   "metadata": {},
   "outputs": [
    {
     "data": {
      "text/plain": [
       "(22259, 10)"
      ]
     },
     "execution_count": 26,
     "metadata": {},
     "output_type": "execute_result"
    }
   ],
   "source": [
    "for i in city_diff:\n",
    "    production_df = production_df[production_df.city!=i]\n",
    "\n",
    "production_df.shape"
   ]
  },
  {
   "cell_type": "code",
   "execution_count": 27,
   "id": "7b560265",
   "metadata": {},
   "outputs": [
    {
     "data": {
      "text/plain": [
       "(22259, 10)"
      ]
     },
     "execution_count": 27,
     "metadata": {},
     "output_type": "execute_result"
    }
   ],
   "source": [
    "for x in prov_diff:\n",
    "    production_df = production_df[production_df.provstate!=x]\n",
    "\n",
    "production_df.shape"
   ]
  },
  {
   "cell_type": "code",
   "execution_count": 28,
   "id": "0172f718",
   "metadata": {},
   "outputs": [
    {
     "data": {
      "text/plain": [
       "(10279, 10)"
      ]
     },
     "execution_count": 28,
     "metadata": {},
     "output_type": "execute_result"
    }
   ],
   "source": [
    "for i in city_diff2:\n",
    "    data = data[data.city!=i]\n",
    "\n",
    "data.shape"
   ]
  },
  {
   "cell_type": "code",
   "execution_count": 29,
   "id": "a2b746e8",
   "metadata": {},
   "outputs": [
    {
     "data": {
      "text/plain": [
       "(10279, 10)"
      ]
     },
     "execution_count": 29,
     "metadata": {},
     "output_type": "execute_result"
    }
   ],
   "source": [
    "for x in prov_diff2:\n",
    "    data = data[data.provstate!=x]\n",
    "    \n",
    "data.shape"
   ]
  },
  {
   "cell_type": "markdown",
   "id": "5dd791e1",
   "metadata": {},
   "source": [
    "---"
   ]
  },
  {
   "cell_type": "markdown",
   "id": "adb1067a",
   "metadata": {},
   "source": [
    "### Sanity"
   ]
  },
  {
   "cell_type": "code",
   "execution_count": null,
   "id": "169920e6",
   "metadata": {},
   "outputs": [],
   "source": [
    "y = set(production_df['city'])\n",
    "x = set(data['city'])\n",
    "\n",
    "city_diff = y.difference(x)\n",
    "city_diff = list(city_diff)\n",
    "len(city_diff)"
   ]
  },
  {
   "cell_type": "code",
   "execution_count": null,
   "id": "37bafdc0",
   "metadata": {},
   "outputs": [],
   "source": [
    "y = set(production_df['city'])\n",
    "x = set(data['city'])\n",
    "\n",
    "city_diff2 = x.difference(y)\n",
    "city_diff2 = list(city_diff2)\n",
    "len(city_diff2)"
   ]
  },
  {
   "cell_type": "code",
   "execution_count": null,
   "id": "300fe021",
   "metadata": {},
   "outputs": [],
   "source": [
    "y = set(production_df['provstate'])\n",
    "x = set(data['provstate'])\n",
    "\n",
    "prov_diff = y.difference(x)\n",
    "prov_diff = list(prov_diff)\n",
    "len(prov_diff)"
   ]
  },
  {
   "cell_type": "code",
   "execution_count": null,
   "id": "56f09945",
   "metadata": {},
   "outputs": [],
   "source": [
    "y = set(production_df['provstate'])\n",
    "x = set(data['provstate'])\n",
    "\n",
    "prov_diff2 = x.difference(y)\n",
    "prov_diff2 = list(prov_diff2)\n",
    "len(prov_diff2)"
   ]
  },
  {
   "cell_type": "markdown",
   "id": "42fcb4c7",
   "metadata": {},
   "source": [
    "---"
   ]
  },
  {
   "cell_type": "markdown",
   "id": "fab58bdc",
   "metadata": {},
   "source": [
    "- We compare prod2 to the complete dataframe, to match the same rows that it did in the previous production dataframe"
   ]
  },
  {
   "cell_type": "markdown",
   "id": "8b1ce66c",
   "metadata": {},
   "source": [
    "## City for pdf2"
   ]
  },
  {
   "cell_type": "code",
   "execution_count": null,
   "id": "bda62029",
   "metadata": {},
   "outputs": [],
   "source": [
    "y = set(production_df2['city'])\n",
    "x = set(production_df['city'])\n",
    "\n",
    "city_diff3 = y.difference(x)\n",
    "city_diff3 = list(city_diff3)\n",
    "len(city_diff3)"
   ]
  },
  {
   "cell_type": "code",
   "execution_count": null,
   "id": "9f8ee9d6",
   "metadata": {},
   "outputs": [],
   "source": [
    "production_df2.shape"
   ]
  },
  {
   "cell_type": "code",
   "execution_count": null,
   "id": "ffc713a9",
   "metadata": {},
   "outputs": [],
   "source": [
    "for i in city_diff3:\n",
    "    production_df2 = production_df2[production_df2.city!=i]\n",
    "\n",
    "production_df2.shape"
   ]
  },
  {
   "cell_type": "markdown",
   "id": "8e74114c",
   "metadata": {},
   "source": [
    "## Provstate for pdf2"
   ]
  },
  {
   "cell_type": "code",
   "execution_count": null,
   "id": "c4903027",
   "metadata": {},
   "outputs": [],
   "source": [
    "y = set(production_df2['provstate'])\n",
    "x = set(production_df['provstate'])\n",
    "\n",
    "prov_diff3 = y.difference(x)\n",
    "prov_diff3 = list(prov_diff3)\n",
    "len(prov_diff3)"
   ]
  },
  {
   "cell_type": "code",
   "execution_count": null,
   "id": "fd4b50c9",
   "metadata": {
    "scrolled": true
   },
   "outputs": [],
   "source": [
    "production_df2.shape"
   ]
  },
  {
   "cell_type": "code",
   "execution_count": null,
   "id": "d6bf2fd0",
   "metadata": {},
   "outputs": [],
   "source": [
    "for i in prov_diff3:\n",
    "    production_df2 = production_df2[production_df2.provstate!=i]\n",
    "\n",
    "production_df2.shape"
   ]
  },
  {
   "cell_type": "markdown",
   "id": "dccf1bcc",
   "metadata": {},
   "source": [
    "### Scaling"
   ]
  },
  {
   "cell_type": "code",
   "execution_count": null,
   "id": "ac34f403",
   "metadata": {},
   "outputs": [],
   "source": [
    "# create a dataframe for the gname target variable\n",
    "gnames = pd.DataFrame(data.gname)\n",
    "\n",
    "# create nkill df\n",
    "nkills = pd.DataFrame(data.nkill)\n",
    "\n",
    "# scale nkill\n",
    "from sklearn.preprocessing import MinMaxScaler\n",
    "scaler = MinMaxScaler()\n",
    "\n",
    "scaler.fit(nkills)\n",
    "nkills = pd.DataFrame(scaler.transform(nkills))\n",
    "nkills = nkills.rename(columns={0:'nkill'})"
   ]
  },
  {
   "cell_type": "code",
   "execution_count": null,
   "id": "341a533d",
   "metadata": {},
   "outputs": [],
   "source": [
    "data.shape[0], gnames.shape[0], nkills.shape[0]"
   ]
  },
  {
   "cell_type": "markdown",
   "id": "c88e414a",
   "metadata": {},
   "source": [
    "### Dummy df"
   ]
  },
  {
   "cell_type": "code",
   "execution_count": null,
   "id": "c5cc6b70",
   "metadata": {},
   "outputs": [],
   "source": [
    "# encode variables\n",
    "dummy_df = pd.get_dummies(data[['country',\n",
    "                                    'provstate',\n",
    "                                    'city',\n",
    "                                    'suicide',\n",
    "                                    'attack_type', \n",
    "                                    'targtype',  \n",
    "                                    'weaptype',\n",
    "                                    'year']], dummy_na=False, drop_first=[True, True])"
   ]
  },
  {
   "cell_type": "code",
   "execution_count": null,
   "id": "0a79abe1",
   "metadata": {},
   "outputs": [],
   "source": [
    "dummy_df = dummy_df.reset_index(drop=True)\n",
    "dummy_df.index"
   ]
  },
  {
   "cell_type": "code",
   "execution_count": null,
   "id": "33b9f6ca",
   "metadata": {},
   "outputs": [],
   "source": [
    "gnames = gnames.reset_index(drop=True)\n",
    "gnames.index"
   ]
  },
  {
   "cell_type": "code",
   "execution_count": null,
   "id": "594c748d",
   "metadata": {},
   "outputs": [],
   "source": [
    "# add target to dataframe\n",
    "dummy_df = pd.concat([dummy_df, gnames, nkills], axis=1)"
   ]
  },
  {
   "cell_type": "code",
   "execution_count": null,
   "id": "1df7ca54",
   "metadata": {},
   "outputs": [],
   "source": [
    "dummy_df.shape"
   ]
  },
  {
   "cell_type": "markdown",
   "id": "174409c3",
   "metadata": {},
   "source": [
    "---"
   ]
  },
  {
   "cell_type": "markdown",
   "id": "b65f5b90",
   "metadata": {},
   "source": [
    "### Gotta Create Lists Now... (or not)"
   ]
  },
  {
   "cell_type": "code",
   "execution_count": null,
   "id": "5392b766",
   "metadata": {},
   "outputs": [],
   "source": [
    "# production_df['year'].nunique(), data['year'].nunique()\n",
    "\n",
    "# production_df['city'].nunique(), data['city'].nunique()\n",
    "\n",
    "# production_df['targtype'].nunique(), data['targtype'].nunique()\n",
    "\n",
    "# prod = production_df['country'].unique()\n",
    "# prod = prod.tolist()\n",
    "\n",
    "# data_list =data.country.unique()\n",
    "# data_list = data_list.tolist()\n",
    "\n",
    "# data_list2 = data.provstate.unique()\n",
    "# data_list2 =data_list2.tolist()\n",
    "\n",
    "# prod2 = production_df['provstate'].unique()\n",
    "# prod2 = prod2.tolist()\n",
    "\n",
    "# prod3 = production_df['city'].unique()\n",
    "# prod3 = prod3.tolist()\n",
    "\n",
    "# data_list3 =data.city.unique()\n",
    "# data_list3 = data_list3.tolist()\n",
    "\n",
    "# # match lists function: \n",
    "# def non_match_elements(list_a, list_b):\n",
    "#     non_match = []\n",
    "#     for i in list_a:\n",
    "#         if i not in list_b:\n",
    "#             non_match.append(i)\n",
    "#     return non_match\n",
    "\n",
    "# non_match = non_match_elements(prod, data_list)\n",
    "# print('Non matched countries: ', non_match)\n",
    "\n",
    "# non_match2 = non_match_elements(prod2, data_list2)\n",
    "# print('Non matched provstates: ', non_match2)\n",
    "\n",
    "# non_match3 = non_match_elements(prod3, data_list3)\n",
    "# print('Non matched cities: ', non_match3)\n",
    "\n",
    "# len(non_match3)\n",
    "\n",
    "\n",
    "# non_match3 = non_match3[:775]\n",
    "\n",
    "# non_match\n",
    "\n",
    "# for match in non_match:\n",
    "#     production_df = production_df[production_df.country!= match]\n",
    "\n",
    "# production_df.shape, data.shape\n",
    "\n",
    "# non_match2\n",
    "\n",
    "# for match2 in non_match2:\n",
    "#     production_df = production_df[production_df.provstate!= match2]\n",
    "    \n",
    "\n",
    "# production_df.shape, data.shape\n",
    "\n",
    "# for match3 in non_match3:\n",
    "#     production_df = production_df[production_df.city!= match3]\n",
    "\n",
    "# production_df.shape, data.shape"
   ]
  },
  {
   "cell_type": "markdown",
   "id": "caded06d",
   "metadata": {},
   "source": [
    "### Production Data Block"
   ]
  },
  {
   "cell_type": "code",
   "execution_count": null,
   "id": "23578fa1",
   "metadata": {},
   "outputs": [],
   "source": [
    "# size difference between prod df and og model df"
   ]
  },
  {
   "cell_type": "code",
   "execution_count": null,
   "id": "f9368cfa",
   "metadata": {
    "scrolled": true
   },
   "outputs": [],
   "source": [
    "production_df.shape"
   ]
  },
  {
   "cell_type": "code",
   "execution_count": null,
   "id": "04f851a1",
   "metadata": {
    "scrolled": true
   },
   "outputs": [],
   "source": [
    "# create a dataframe for the gname target variable\n",
    "gnames2 = pd.DataFrame(production_df.gname)\n",
    "\n",
    "# create nkill df\n",
    "nkills2 = pd.DataFrame(production_df.nkill)\n",
    "\n",
    "scaler2 = MinMaxScaler()\n",
    "\n",
    "scaler2.fit(nkills2)\n",
    "nkills2 = nkills2.rename(columns={0:'nkill'})"
   ]
  },
  {
   "cell_type": "code",
   "execution_count": null,
   "id": "cc0b26d6",
   "metadata": {},
   "outputs": [],
   "source": [
    "# encode variables\n",
    "dummy_df2 = pd.get_dummies(production_df[['country',\n",
    "                                    'provstate',\n",
    "                                    'city',\n",
    "                                    'suicide',\n",
    "                                    'attack_type', \n",
    "                                    'targtype',  \n",
    "                                    'weaptype',\n",
    "                                    'year']], dummy_na=False, drop_first=[True, True])"
   ]
  },
  {
   "cell_type": "code",
   "execution_count": null,
   "id": "5a585251",
   "metadata": {
    "scrolled": false
   },
   "outputs": [],
   "source": [
    "gnames2 = gnames2.reset_index(drop=True)\n",
    "gnames2.index"
   ]
  },
  {
   "cell_type": "code",
   "execution_count": null,
   "id": "e69f9896",
   "metadata": {
    "scrolled": true
   },
   "outputs": [],
   "source": [
    "dummy_df2 = dummy_df2.reset_index(drop=True)\n",
    "dummy_df2.index"
   ]
  },
  {
   "cell_type": "code",
   "execution_count": null,
   "id": "f0ddf46c",
   "metadata": {},
   "outputs": [],
   "source": [
    "nkills2 = nkills2.reset_index(drop=True)\n",
    "nkills2.index"
   ]
  },
  {
   "cell_type": "code",
   "execution_count": null,
   "id": "6a643028",
   "metadata": {
    "scrolled": true
   },
   "outputs": [],
   "source": [
    "gnames2.shape, nkills2.shape, dummy_df2.shape"
   ]
  },
  {
   "cell_type": "code",
   "execution_count": null,
   "id": "17195bb9",
   "metadata": {},
   "outputs": [],
   "source": [
    "# add target to dataframe\n",
    "dummy_df2 = pd.concat([dummy_df2, gnames2, nkills2], axis=1)"
   ]
  },
  {
   "cell_type": "markdown",
   "id": "2923145d",
   "metadata": {},
   "source": [
    "#### Prod DF Size"
   ]
  },
  {
   "cell_type": "code",
   "execution_count": null,
   "id": "ad656b84",
   "metadata": {},
   "outputs": [],
   "source": [
    "#X_train2= train2.drop(columns=['gname'])\n",
    "#y_train2 = train2.gname\n",
    "\n",
    "#X_validate2 = validate2.drop(columns=['gname'])\n",
    "#y_validate2 = validate2.gname\n",
    "\n",
    "X_test2 = dummy_df2.drop(columns=['gname'])\n",
    "y_test2 = dummy_df2.gname"
   ]
  },
  {
   "cell_type": "code",
   "execution_count": null,
   "id": "64a01041",
   "metadata": {
    "scrolled": true
   },
   "outputs": [],
   "source": [
    "X_test2.shape, y_test2.shape"
   ]
  },
  {
   "cell_type": "markdown",
   "id": "d50cf682",
   "metadata": {},
   "source": [
    "#### OG DF Size"
   ]
  },
  {
   "cell_type": "code",
   "execution_count": null,
   "id": "92cf6c12",
   "metadata": {},
   "outputs": [],
   "source": [
    "def train_validate_test_split(df, target, seed=123):\n",
    "    '''\n",
    "    This function takes in a dataframe, the name of the target variable\n",
    "    (for stratification purposes), and an integer for a setting a seed\n",
    "    and splits the data into train, validate and test. \n",
    "    Test is 20% of the original dataset, validate is .30*.80= 24% of the \n",
    "    original dataset, and train is .70*.80= 56% of the original dataset. \n",
    "    The function returns, in this order, train, validate and test dataframes. \n",
    "    '''\n",
    "    train_validate, test = train_test_split(df, test_size=0.27, \n",
    "                                            random_state=seed, \n",
    "                                            stratify=df[target])\n",
    "    train, validate = train_test_split(train_validate, test_size=0.35, \n",
    "                                       random_state=seed,\n",
    "                                       stratify=train_validate[target])\n",
    "    return train, validate, test"
   ]
  },
  {
   "cell_type": "code",
   "execution_count": null,
   "id": "ad629731",
   "metadata": {},
   "outputs": [],
   "source": [
    "# split into train, validate, test\n",
    "train, validate, test = train_validate_test_split(dummy_df, target='gname', seed=123)\n",
    "\n",
    "# create X & y version of train, where y is a series with just the target variable and X are all the features. \n",
    "\n",
    "X_train= train.drop(columns=['gname'])\n",
    "y_train = train.gname\n",
    "\n",
    "X_validate = validate.drop(columns=['gname'])\n",
    "y_validate = validate.gname\n",
    "\n",
    "X_test = test.drop(columns=['gname'])\n",
    "y_test = test.gname"
   ]
  },
  {
   "cell_type": "code",
   "execution_count": null,
   "id": "426335bc",
   "metadata": {},
   "outputs": [],
   "source": [
    "X_train.shape, X_validate.shape, X_test.shape"
   ]
  },
  {
   "cell_type": "markdown",
   "id": "283bce60",
   "metadata": {},
   "source": [
    "---"
   ]
  },
  {
   "cell_type": "markdown",
   "id": "831062fc",
   "metadata": {},
   "source": [
    "### Create Model"
   ]
  },
  {
   "cell_type": "code",
   "execution_count": null,
   "id": "51eb6b97",
   "metadata": {},
   "outputs": [],
   "source": [
    "# for classification you can change the algorithm to gini or entropy (information gain).  \n",
    "# Default is gini.\n",
    "\n",
    "clf = DecisionTreeClassifier(max_depth=5, random_state=123)\n",
    "\n",
    "# model.fit(X, y)\n",
    "\n",
    "clf = clf.fit(X_train, y_train)\n",
    "\n",
    "# make prediction on train obeservations\n",
    "\n",
    "y_pred = clf.predict(X_train)\n",
    "\n",
    "# y_pred_proba = clf.predict_proba(X_train2)\n",
    "\n",
    "# Eval model\n",
    "print('Accuracy of Decision Tree classifier on training set: {:.2f}'\n",
    "      .format(clf.score(X_train, y_train)))"
   ]
  },
  {
   "cell_type": "code",
   "execution_count": null,
   "id": "67eeabc5",
   "metadata": {
    "scrolled": false
   },
   "outputs": [],
   "source": [
    "metrics = []\n",
    "for i in range(1, 15):\n",
    "    tree = DecisionTreeClassifier(max_depth=i, random_state=17)\n",
    "    tree = tree.fit(X_train, y_train)\n",
    "    in_sample_accuracy = tree.score(X_train, y_train)\n",
    "    \n",
    "    out_of_sample_accuracy = tree.score(X_validate, y_validate)\n",
    "    output = {\n",
    "        \"max_depth\": i,\n",
    "        \"train_accuracy\": in_sample_accuracy,\n",
    "        \"validate_accuracy\": out_of_sample_accuracy\n",
    "    }\n",
    "    \n",
    "    metrics.append(output)\n",
    "    \n",
    "dt_df = pd.DataFrame(metrics)\n",
    "dt_df[\"difference\"] = dt_df.train_accuracy - dt_df.validate_accuracy\n",
    "dt_df"
   ]
  },
  {
   "cell_type": "code",
   "execution_count": null,
   "id": "76494422",
   "metadata": {
    "scrolled": false
   },
   "outputs": [],
   "source": [
    "plt.rcParams['figure.figsize'] = [25, 20]\n",
    "sns.set(font_scale = 3)\n",
    "dt_df[['train_accuracy', 'validate_accuracy', 'difference' ]].plot()\n",
    "plt.title(\"Decision Tree Model Accuracies\")\n",
    "plt.ylabel(\"Accuracy\")\n",
    "plt.xlabel(\"Max Depth\")\n",
    "plt.vlines(x=[21], ymin=0, ymax=.8, colors='r', linestyles='dashed')\n",
    "plt.show()"
   ]
  },
  {
   "cell_type": "code",
   "execution_count": null,
   "id": "436bf16c",
   "metadata": {},
   "outputs": [],
   "source": [
    "tree = DecisionTreeClassifier(max_depth=5, random_state=123)\n",
    "\n",
    "tree = tree.fit(X_train, y_train)\n",
    "\n",
    "tree.score(X_test, y_test)"
   ]
  },
  {
   "cell_type": "code",
   "execution_count": null,
   "id": "6bfcabd6",
   "metadata": {},
   "outputs": [],
   "source": [
    "plot_tree(clf, feature_names=X_train.columns, class_names=clf.classes_, rounded=True)\n",
    "plt.figure(figsize=(25, 15))"
   ]
  },
  {
   "cell_type": "markdown",
   "id": "9577828c",
   "metadata": {},
   "source": [
    "### Testing on Unk DF"
   ]
  },
  {
   "cell_type": "code",
   "execution_count": null,
   "id": "03320a40",
   "metadata": {},
   "outputs": [],
   "source": [
    "# for classification you can change the algorithm to gini or entropy (information gain).  \n",
    "# Default is gini.\n",
    "\n",
    "clf = DecisionTreeClassifier(max_depth=4, random_state=123)\n",
    "\n",
    "# model.fit(X, y)\n",
    "\n",
    "clf = clf.fit(X_train, y_train)\n",
    "\n",
    "# make prediction on train obeservations\n",
    "\n",
    "y_pred = clf.predict(X_test2)"
   ]
  },
  {
   "cell_type": "code",
   "execution_count": null,
   "id": "c3d85bf5",
   "metadata": {},
   "outputs": [],
   "source": [
    "unk = pd.DataFrame(y_test2)\n",
    "labels = pd.DataFrame(y_pred)"
   ]
  },
  {
   "cell_type": "code",
   "execution_count": null,
   "id": "b1f08964",
   "metadata": {},
   "outputs": [],
   "source": [
    "production_df2 = production_df2.reset_index()"
   ]
  },
  {
   "cell_type": "code",
   "execution_count": null,
   "id": "9cb5f083",
   "metadata": {},
   "outputs": [],
   "source": [
    "production_df2['predictions'] = labels"
   ]
  },
  {
   "cell_type": "code",
   "execution_count": null,
   "id": "4b077c69",
   "metadata": {},
   "outputs": [],
   "source": [
    "production_df2.to_csv('terrorism_predictions.csv')"
   ]
  },
  {
   "cell_type": "code",
   "execution_count": null,
   "id": "938fb62a",
   "metadata": {},
   "outputs": [],
   "source": []
  }
 ],
 "metadata": {
  "kernelspec": {
   "display_name": "Python 3 (ipykernel)",
   "language": "python",
   "name": "python3"
  },
  "language_info": {
   "codemirror_mode": {
    "name": "ipython",
    "version": 3
   },
   "file_extension": ".py",
   "mimetype": "text/x-python",
   "name": "python",
   "nbconvert_exporter": "python",
   "pygments_lexer": "ipython3",
   "version": "3.9.7"
  }
 },
 "nbformat": 4,
 "nbformat_minor": 5
}
