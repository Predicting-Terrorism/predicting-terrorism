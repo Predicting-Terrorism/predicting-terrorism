{
 "cells": [
  {
   "cell_type": "code",
   "execution_count": 1,
   "id": "2074d5ed",
   "metadata": {},
   "outputs": [],
   "source": [
    "import pandas as pd\n",
    "import acquire as a"
   ]
  },
  {
   "cell_type": "code",
   "execution_count": 2,
   "id": "581465d0",
   "metadata": {},
   "outputs": [],
   "source": [
    "df = a.get_and_clean_gtd()"
   ]
  },
  {
   "cell_type": "code",
   "execution_count": null,
   "id": "7a434fb5",
   "metadata": {},
   "outputs": [],
   "source": []
  }
 ],
 "metadata": {
  "kernelspec": {
   "display_name": "Python 3 (ipykernel)",
   "language": "python",
   "name": "python3"
  },
  "language_info": {
   "codemirror_mode": {
    "name": "ipython",
    "version": 3
   },
   "file_extension": ".py",
   "mimetype": "text/x-python",
   "name": "python",
   "nbconvert_exporter": "python",
   "pygments_lexer": "ipython3",
   "version": "3.9.7"
  }
 },
 "nbformat": 4,
 "nbformat_minor": 5
}
