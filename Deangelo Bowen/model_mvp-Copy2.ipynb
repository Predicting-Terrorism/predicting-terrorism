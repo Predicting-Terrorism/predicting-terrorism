{
 "cells": [
  {
   "cell_type": "code",
   "execution_count": 1,
   "id": "9c8c7f83",
   "metadata": {},
   "outputs": [],
   "source": [
    "import pandas as pd\n",
    "import wrangle as w\n",
    "import explore as e\n",
    "import seaborn as sns\n",
    "\n",
    "\n",
    "from sklearn.model_selection import train_test_split\n",
    "from sklearn.neighbors import KNeighborsClassifier\n",
    "from sklearn.tree import DecisionTreeClassifier, plot_tree\n",
    "from sklearn.metrics import classification_report\n",
    "from sklearn.metrics import confusion_matrix\n",
    "\n",
    "from sklearn.model_selection import train_test_split\n",
    "\n",
    "from functools import reduce\n",
    "\n",
    "import matplotlib.pyplot as plt\n",
    "\n",
    "# importing necessary libraries\n",
    "import pandas as pd\n",
    "import numpy as np\n",
    "\n",
    "\n",
    "from kmodes.kmodes import KModes\n",
    "import matplotlib.pyplot as plt\n",
    "%matplotlib inline"
   ]
  },
  {
   "cell_type": "markdown",
   "id": "cc499ebd",
   "metadata": {},
   "source": [
    "## Recreate model data from model.ipynb notebook"
   ]
  },
  {
   "cell_type": "code",
   "execution_count": 2,
   "id": "030b939c",
   "metadata": {},
   "outputs": [],
   "source": [
    "# acquire dataframe\n",
    "df = w.get_perpetrator_df()\n",
    "\n",
    "# create production dataframe based on the target variables\n",
    "production_df = df[df['gname'].str.contains('Unknown')==True]\n",
    "\n",
    "# create target variable dataframe\n",
    "df1 = df[df['gname'].str.contains('Unknown')==False]\n",
    "\n",
    "# drop columns from the dataframe that arent relevant in the predictor\n",
    "model_df = df1.drop(columns=['event_id',\n",
    "             'month',\n",
    "             'day',\n",
    "             'region',\n",
    "             'latitude',\n",
    "             'longitude',\n",
    "             'success',\n",
    "             'attacktype_n',\n",
    "             'targtype_n',\n",
    "             'targsubtype_n',\n",
    "             'targsubtype',\n",
    "             'corp1',\n",
    "             'target_description',\n",
    "             'nationality',\n",
    "             'claimed',\n",
    "             'weapdesc',\n",
    "             'nkillus',\n",
    "             'nkillter',\n",
    "             'nwound',\n",
    "             'nwoundus',\n",
    "             'nwoundte',\n",
    "             'property'])\n",
    "\n",
    "\n",
    "production_df2 = production_df.drop(columns=['event_id',\n",
    "             'region',\n",
    "             'success',\n",
    "             'attacktype_n',\n",
    "             'targtype_n',\n",
    "             'targsubtype_n',\n",
    "             'targsubtype',\n",
    "             'corp1',\n",
    "             'target_description',\n",
    "             'nationality',\n",
    "             'claimed',\n",
    "             'weapdesc',\n",
    "             'nkillus',\n",
    "             'nkillter',\n",
    "             'nwound',\n",
    "             'nwoundus',\n",
    "             'nwoundte',\n",
    "             'property'])\n",
    "\n",
    "\n",
    "production_df = production_df.drop(columns=['event_id',\n",
    "             'month',\n",
    "             'day',\n",
    "             'region',\n",
    "             'latitude',\n",
    "             'longitude',\n",
    "             'success',\n",
    "             'attacktype_n',\n",
    "             'targtype_n',\n",
    "             'targsubtype_n',\n",
    "             'targsubtype',\n",
    "             'corp1',\n",
    "             'target_description',\n",
    "             'nationality',\n",
    "             'claimed',\n",
    "             'weapdesc',\n",
    "             'nkillus',\n",
    "             'nkillter',\n",
    "             'nwound',\n",
    "             'nwoundus',\n",
    "             'nwoundte',\n",
    "             'property'])\n",
    "\n",
    "# change year to object type\n",
    "model_df.year = model_df.year.astype('str')\n",
    "production_df.year = production_df.year.astype('str')\n",
    "\n",
    "data = model_df\n"
   ]
  },
  {
   "cell_type": "code",
   "execution_count": 3,
   "id": "1659b270",
   "metadata": {},
   "outputs": [
    {
     "data": {
      "text/html": [
       "<div>\n",
       "<style scoped>\n",
       "    .dataframe tbody tr th:only-of-type {\n",
       "        vertical-align: middle;\n",
       "    }\n",
       "\n",
       "    .dataframe tbody tr th {\n",
       "        vertical-align: top;\n",
       "    }\n",
       "\n",
       "    .dataframe thead th {\n",
       "        text-align: right;\n",
       "    }\n",
       "</style>\n",
       "<table border=\"1\" class=\"dataframe\">\n",
       "  <thead>\n",
       "    <tr style=\"text-align: right;\">\n",
       "      <th></th>\n",
       "      <th>year</th>\n",
       "      <th>month</th>\n",
       "      <th>day</th>\n",
       "      <th>country</th>\n",
       "      <th>provstate</th>\n",
       "      <th>city</th>\n",
       "      <th>latitude</th>\n",
       "      <th>longitude</th>\n",
       "      <th>suicide</th>\n",
       "      <th>attack_type</th>\n",
       "      <th>targtype</th>\n",
       "      <th>gname</th>\n",
       "      <th>weaptype</th>\n",
       "      <th>nkill</th>\n",
       "    </tr>\n",
       "    <tr>\n",
       "      <th>date</th>\n",
       "      <th></th>\n",
       "      <th></th>\n",
       "      <th></th>\n",
       "      <th></th>\n",
       "      <th></th>\n",
       "      <th></th>\n",
       "      <th></th>\n",
       "      <th></th>\n",
       "      <th></th>\n",
       "      <th></th>\n",
       "      <th></th>\n",
       "      <th></th>\n",
       "      <th></th>\n",
       "      <th></th>\n",
       "    </tr>\n",
       "  </thead>\n",
       "  <tbody>\n",
       "    <tr>\n",
       "      <th>2001-01-01</th>\n",
       "      <td>2001</td>\n",
       "      <td>1</td>\n",
       "      <td>1</td>\n",
       "      <td>turkey</td>\n",
       "      <td>Istanbul</td>\n",
       "      <td>Istanbul</td>\n",
       "      <td>41.106178</td>\n",
       "      <td>28.689863</td>\n",
       "      <td>0</td>\n",
       "      <td>Bombing/Explosion</td>\n",
       "      <td>Private Citizens &amp; Property</td>\n",
       "      <td>Unknown</td>\n",
       "      <td>Explosives</td>\n",
       "      <td>0.0</td>\n",
       "    </tr>\n",
       "    <tr>\n",
       "      <th>2001-01-10</th>\n",
       "      <td>2001</td>\n",
       "      <td>1</td>\n",
       "      <td>10</td>\n",
       "      <td>turkey</td>\n",
       "      <td>Istanbul</td>\n",
       "      <td>Istanbul</td>\n",
       "      <td>41.106178</td>\n",
       "      <td>28.689863</td>\n",
       "      <td>0</td>\n",
       "      <td>Armed Assault</td>\n",
       "      <td>Police</td>\n",
       "      <td>Unknown</td>\n",
       "      <td>Firearms</td>\n",
       "      <td>1.0</td>\n",
       "    </tr>\n",
       "    <tr>\n",
       "      <th>2001-01-11</th>\n",
       "      <td>2001</td>\n",
       "      <td>1</td>\n",
       "      <td>11</td>\n",
       "      <td>israel</td>\n",
       "      <td>Jerusalem</td>\n",
       "      <td>Jerusalem</td>\n",
       "      <td>31.771599</td>\n",
       "      <td>35.203400</td>\n",
       "      <td>0</td>\n",
       "      <td>Bombing/Explosion</td>\n",
       "      <td>Private Citizens &amp; Property</td>\n",
       "      <td>Unknown</td>\n",
       "      <td>Explosives</td>\n",
       "      <td>0.0</td>\n",
       "    </tr>\n",
       "    <tr>\n",
       "      <th>2001-01-23</th>\n",
       "      <td>2001</td>\n",
       "      <td>1</td>\n",
       "      <td>23</td>\n",
       "      <td>turkey</td>\n",
       "      <td>Mersin</td>\n",
       "      <td>Unknown</td>\n",
       "      <td>36.806853</td>\n",
       "      <td>34.628893</td>\n",
       "      <td>0</td>\n",
       "      <td>Bombing/Explosion</td>\n",
       "      <td>Government (General)</td>\n",
       "      <td>Unknown</td>\n",
       "      <td>Explosives</td>\n",
       "      <td>0.0</td>\n",
       "    </tr>\n",
       "    <tr>\n",
       "      <th>2001-01-25</th>\n",
       "      <td>2001</td>\n",
       "      <td>1</td>\n",
       "      <td>25</td>\n",
       "      <td>pakistan</td>\n",
       "      <td>Punjab</td>\n",
       "      <td>Sardarpur</td>\n",
       "      <td>30.552887</td>\n",
       "      <td>71.767411</td>\n",
       "      <td>0</td>\n",
       "      <td>Armed Assault</td>\n",
       "      <td>Government (General)</td>\n",
       "      <td>Unknown</td>\n",
       "      <td>Firearms</td>\n",
       "      <td>1.0</td>\n",
       "    </tr>\n",
       "  </tbody>\n",
       "</table>\n",
       "</div>"
      ],
      "text/plain": [
       "            year  month  day   country  provstate       city   latitude  \\\n",
       "date                                                                      \n",
       "2001-01-01  2001      1    1    turkey   Istanbul   Istanbul  41.106178   \n",
       "2001-01-10  2001      1   10    turkey   Istanbul   Istanbul  41.106178   \n",
       "2001-01-11  2001      1   11    israel  Jerusalem  Jerusalem  31.771599   \n",
       "2001-01-23  2001      1   23    turkey     Mersin    Unknown  36.806853   \n",
       "2001-01-25  2001      1   25  pakistan     Punjab  Sardarpur  30.552887   \n",
       "\n",
       "            longitude  suicide        attack_type  \\\n",
       "date                                                \n",
       "2001-01-01  28.689863        0  Bombing/Explosion   \n",
       "2001-01-10  28.689863        0      Armed Assault   \n",
       "2001-01-11  35.203400        0  Bombing/Explosion   \n",
       "2001-01-23  34.628893        0  Bombing/Explosion   \n",
       "2001-01-25  71.767411        0      Armed Assault   \n",
       "\n",
       "                               targtype    gname    weaptype  nkill  \n",
       "date                                                                 \n",
       "2001-01-01  Private Citizens & Property  Unknown  Explosives    0.0  \n",
       "2001-01-10                       Police  Unknown    Firearms    1.0  \n",
       "2001-01-11  Private Citizens & Property  Unknown  Explosives    0.0  \n",
       "2001-01-23         Government (General)  Unknown  Explosives    0.0  \n",
       "2001-01-25         Government (General)  Unknown    Firearms    1.0  "
      ]
     },
     "execution_count": 3,
     "metadata": {},
     "output_type": "execute_result"
    }
   ],
   "source": [
    "production_df2.head()"
   ]
  },
  {
   "cell_type": "markdown",
   "id": "de292b08",
   "metadata": {},
   "source": [
    "### Check differences in DFs"
   ]
  },
  {
   "cell_type": "markdown",
   "id": "3fe2f793",
   "metadata": {},
   "source": [
    "somthing.difference(argument)"
   ]
  },
  {
   "cell_type": "markdown",
   "id": "314c3a26",
   "metadata": {},
   "source": [
    "---"
   ]
  },
  {
   "cell_type": "markdown",
   "id": "621c1ad1",
   "metadata": {},
   "source": [
    "#### Provstate from prod_df to data"
   ]
  },
  {
   "cell_type": "code",
   "execution_count": 4,
   "id": "855a3edd",
   "metadata": {
    "scrolled": true
   },
   "outputs": [
    {
     "data": {
      "text/plain": [
       "87"
      ]
     },
     "execution_count": 4,
     "metadata": {},
     "output_type": "execute_result"
    }
   ],
   "source": [
    "y = set(production_df['provstate'])\n",
    "x = set(data['provstate'])\n",
    "\n",
    "prov_diff = y.difference(x)\n",
    "prov_diff = list(prov_diff)\n",
    "len(prov_diff)"
   ]
  },
  {
   "cell_type": "markdown",
   "id": "387e4b72",
   "metadata": {},
   "source": [
    "#### Data to prod_df"
   ]
  },
  {
   "cell_type": "code",
   "execution_count": 5,
   "id": "9586572f",
   "metadata": {
    "scrolled": false
   },
   "outputs": [
    {
     "data": {
      "text/plain": [
       "19"
      ]
     },
     "execution_count": 5,
     "metadata": {},
     "output_type": "execute_result"
    }
   ],
   "source": [
    "y = set(production_df['provstate'])\n",
    "x = set(data['provstate'])\n",
    "\n",
    "prov_diff2 = x.difference(y)\n",
    "prov_diff2 = list(prov_diff2)\n",
    "len(prov_diff2)"
   ]
  },
  {
   "cell_type": "markdown",
   "id": "80fc15f5",
   "metadata": {},
   "source": [
    "#### City from prod_df to data"
   ]
  },
  {
   "cell_type": "code",
   "execution_count": 6,
   "id": "5f80c8f0",
   "metadata": {},
   "outputs": [
    {
     "data": {
      "text/plain": [
       "3165"
      ]
     },
     "execution_count": 6,
     "metadata": {},
     "output_type": "execute_result"
    }
   ],
   "source": [
    "y = set(production_df['city'])\n",
    "x = set(data['city'])\n",
    "\n",
    "city_diff = y.difference(x)\n",
    "city_diff = list(city_diff)\n",
    "len(city_diff)"
   ]
  },
  {
   "cell_type": "markdown",
   "id": "2cd8df32",
   "metadata": {},
   "source": [
    "#### city from data to prod"
   ]
  },
  {
   "cell_type": "code",
   "execution_count": 27,
   "id": "b052c473",
   "metadata": {},
   "outputs": [
    {
     "data": {
      "text/plain": [
       "3"
      ]
     },
     "execution_count": 27,
     "metadata": {},
     "output_type": "execute_result"
    }
   ],
   "source": [
    "y = set(production_df['city'])\n",
    "x = set(data['city'])\n",
    "\n",
    "city_diff2 = x.difference(y)\n",
    "city_diff2 = list(city_diff2)\n",
    "len(city_diff2)"
   ]
  },
  {
   "cell_type": "code",
   "execution_count": 28,
   "id": "2dd6d14c",
   "metadata": {},
   "outputs": [
    {
     "data": {
      "text/plain": [
       "((22259, 10), (10284, 10))"
      ]
     },
     "execution_count": 28,
     "metadata": {},
     "output_type": "execute_result"
    }
   ],
   "source": [
    "production_df.shape, data.shape"
   ]
  },
  {
   "cell_type": "code",
   "execution_count": 29,
   "id": "5cd96980",
   "metadata": {},
   "outputs": [
    {
     "data": {
      "text/plain": [
       "(22259, 10)"
      ]
     },
     "execution_count": 29,
     "metadata": {},
     "output_type": "execute_result"
    }
   ],
   "source": [
    "for i in city_diff:\n",
    "    production_df = production_df[production_df.city!=i]\n",
    "\n",
    "production_df.shape"
   ]
  },
  {
   "cell_type": "code",
   "execution_count": 30,
   "id": "7b560265",
   "metadata": {},
   "outputs": [
    {
     "data": {
      "text/plain": [
       "(22259, 10)"
      ]
     },
     "execution_count": 30,
     "metadata": {},
     "output_type": "execute_result"
    }
   ],
   "source": [
    "for x in prov_diff:\n",
    "    production_df = production_df[production_df.provstate!=x]\n",
    "\n",
    "production_df.shape"
   ]
  },
  {
   "cell_type": "code",
   "execution_count": 31,
   "id": "0172f718",
   "metadata": {},
   "outputs": [
    {
     "data": {
      "text/plain": [
       "(10279, 10)"
      ]
     },
     "execution_count": 31,
     "metadata": {},
     "output_type": "execute_result"
    }
   ],
   "source": [
    "for i in city_diff2:\n",
    "    data = data[data.city!=i]\n",
    "\n",
    "data.shape"
   ]
  },
  {
   "cell_type": "code",
   "execution_count": 32,
   "id": "a2b746e8",
   "metadata": {},
   "outputs": [
    {
     "data": {
      "text/plain": [
       "(10279, 10)"
      ]
     },
     "execution_count": 32,
     "metadata": {},
     "output_type": "execute_result"
    }
   ],
   "source": [
    "for x in prov_diff2:\n",
    "    data = data[data.provstate!=x]\n",
    "    \n",
    "data.shape"
   ]
  },
  {
   "cell_type": "markdown",
   "id": "5dd791e1",
   "metadata": {},
   "source": [
    "---"
   ]
  },
  {
   "cell_type": "markdown",
   "id": "adb1067a",
   "metadata": {},
   "source": [
    "### Sanity"
   ]
  },
  {
   "cell_type": "code",
   "execution_count": 33,
   "id": "169920e6",
   "metadata": {},
   "outputs": [
    {
     "data": {
      "text/plain": [
       "0"
      ]
     },
     "execution_count": 33,
     "metadata": {},
     "output_type": "execute_result"
    }
   ],
   "source": [
    "y = set(production_df['city'])\n",
    "x = set(data['city'])\n",
    "\n",
    "city_diff = y.difference(x)\n",
    "city_diff = list(city_diff)\n",
    "len(city_diff)"
   ]
  },
  {
   "cell_type": "code",
   "execution_count": 34,
   "id": "37bafdc0",
   "metadata": {},
   "outputs": [
    {
     "data": {
      "text/plain": [
       "0"
      ]
     },
     "execution_count": 34,
     "metadata": {},
     "output_type": "execute_result"
    }
   ],
   "source": [
    "y = set(production_df['city'])\n",
    "x = set(data['city'])\n",
    "\n",
    "city_diff2 = x.difference(y)\n",
    "city_diff2 = list(city_diff2)\n",
    "len(city_diff2)"
   ]
  },
  {
   "cell_type": "code",
   "execution_count": 35,
   "id": "300fe021",
   "metadata": {},
   "outputs": [
    {
     "data": {
      "text/plain": [
       "0"
      ]
     },
     "execution_count": 35,
     "metadata": {},
     "output_type": "execute_result"
    }
   ],
   "source": [
    "y = set(production_df['provstate'])\n",
    "x = set(data['provstate'])\n",
    "\n",
    "prov_diff = y.difference(x)\n",
    "prov_diff = list(prov_diff)\n",
    "len(prov_diff)"
   ]
  },
  {
   "cell_type": "code",
   "execution_count": 36,
   "id": "56f09945",
   "metadata": {},
   "outputs": [
    {
     "data": {
      "text/plain": [
       "0"
      ]
     },
     "execution_count": 36,
     "metadata": {},
     "output_type": "execute_result"
    }
   ],
   "source": [
    "y = set(production_df['provstate'])\n",
    "x = set(data['provstate'])\n",
    "\n",
    "prov_diff2 = x.difference(y)\n",
    "prov_diff2 = list(prov_diff2)\n",
    "len(prov_diff2)"
   ]
  },
  {
   "cell_type": "markdown",
   "id": "42fcb4c7",
   "metadata": {},
   "source": [
    "---"
   ]
  },
  {
   "cell_type": "markdown",
   "id": "fab58bdc",
   "metadata": {},
   "source": [
    "- We compare prod2 to the complete dataframe, to match the same rows that it did in the previous production dataframe"
   ]
  },
  {
   "cell_type": "markdown",
   "id": "8b1ce66c",
   "metadata": {},
   "source": [
    "## City for pdf2"
   ]
  },
  {
   "cell_type": "code",
   "execution_count": 40,
   "id": "bda62029",
   "metadata": {},
   "outputs": [
    {
     "data": {
      "text/plain": [
       "0"
      ]
     },
     "execution_count": 40,
     "metadata": {},
     "output_type": "execute_result"
    }
   ],
   "source": [
    "y = set(production_df2['city'])\n",
    "x = set(production_df['city'])\n",
    "\n",
    "city_diff3 = y.difference(x)\n",
    "city_diff3 = list(city_diff3)\n",
    "len(city_diff3)"
   ]
  },
  {
   "cell_type": "code",
   "execution_count": 41,
   "id": "9f8ee9d6",
   "metadata": {},
   "outputs": [
    {
     "data": {
      "text/plain": [
       "(22374, 14)"
      ]
     },
     "execution_count": 41,
     "metadata": {},
     "output_type": "execute_result"
    }
   ],
   "source": [
    "production_df2.shape"
   ]
  },
  {
   "cell_type": "code",
   "execution_count": 42,
   "id": "ffc713a9",
   "metadata": {},
   "outputs": [
    {
     "data": {
      "text/plain": [
       "(22374, 14)"
      ]
     },
     "execution_count": 42,
     "metadata": {},
     "output_type": "execute_result"
    }
   ],
   "source": [
    "for i in city_diff3:\n",
    "    production_df2 = production_df2[production_df2.city!=i]\n",
    "\n",
    "production_df2.shape"
   ]
  },
  {
   "cell_type": "markdown",
   "id": "8e74114c",
   "metadata": {},
   "source": [
    "## Provstate for pdf2"
   ]
  },
  {
   "cell_type": "code",
   "execution_count": 46,
   "id": "c4903027",
   "metadata": {},
   "outputs": [
    {
     "data": {
      "text/plain": [
       "0"
      ]
     },
     "execution_count": 46,
     "metadata": {},
     "output_type": "execute_result"
    }
   ],
   "source": [
    "y = set(production_df2['provstate'])\n",
    "x = set(production_df['provstate'])\n",
    "\n",
    "prov_diff3 = y.difference(x)\n",
    "prov_diff3 = list(prov_diff3)\n",
    "len(prov_diff3)"
   ]
  },
  {
   "cell_type": "code",
   "execution_count": 47,
   "id": "fd4b50c9",
   "metadata": {
    "scrolled": true
   },
   "outputs": [
    {
     "data": {
      "text/plain": [
       "(22259, 14)"
      ]
     },
     "execution_count": 47,
     "metadata": {},
     "output_type": "execute_result"
    }
   ],
   "source": [
    "production_df2.shape"
   ]
  },
  {
   "cell_type": "code",
   "execution_count": 48,
   "id": "d6bf2fd0",
   "metadata": {},
   "outputs": [
    {
     "data": {
      "text/plain": [
       "(22259, 14)"
      ]
     },
     "execution_count": 48,
     "metadata": {},
     "output_type": "execute_result"
    }
   ],
   "source": [
    "for i in prov_diff3:\n",
    "    production_df2 = production_df2[production_df2.provstate!=i]\n",
    "\n",
    "production_df2.shape"
   ]
  },
  {
   "cell_type": "markdown",
   "id": "dccf1bcc",
   "metadata": {},
   "source": [
    "### Scaling"
   ]
  },
  {
   "cell_type": "code",
   "execution_count": 49,
   "id": "ac34f403",
   "metadata": {},
   "outputs": [],
   "source": [
    "# create a dataframe for the gname target variable\n",
    "gnames = pd.DataFrame(data.gname)\n",
    "\n",
    "# create nkill df\n",
    "nkills = pd.DataFrame(data.nkill)\n",
    "\n",
    "# scale nkill\n",
    "from sklearn.preprocessing import MinMaxScaler\n",
    "scaler = MinMaxScaler()\n",
    "\n",
    "scaler.fit(nkills)\n",
    "nkills = pd.DataFrame(scaler.transform(nkills))\n",
    "nkills = nkills.rename(columns={0:'nkill'})"
   ]
  },
  {
   "cell_type": "code",
   "execution_count": 50,
   "id": "341a533d",
   "metadata": {},
   "outputs": [
    {
     "data": {
      "text/plain": [
       "(10279, 10279, 10279)"
      ]
     },
     "execution_count": 50,
     "metadata": {},
     "output_type": "execute_result"
    }
   ],
   "source": [
    "data.shape[0], gnames.shape[0], nkills.shape[0]"
   ]
  },
  {
   "cell_type": "markdown",
   "id": "c88e414a",
   "metadata": {},
   "source": [
    "### Dummy df"
   ]
  },
  {
   "cell_type": "code",
   "execution_count": 51,
   "id": "c5cc6b70",
   "metadata": {},
   "outputs": [],
   "source": [
    "# encode variables\n",
    "dummy_df = pd.get_dummies(data[['country',\n",
    "                                    'provstate',\n",
    "                                    'city',\n",
    "                                    'suicide',\n",
    "                                    'attack_type', \n",
    "                                    'targtype',  \n",
    "                                    'weaptype',\n",
    "                                    'year']], dummy_na=False, drop_first=[True, True])"
   ]
  },
  {
   "cell_type": "code",
   "execution_count": 52,
   "id": "0a79abe1",
   "metadata": {},
   "outputs": [
    {
     "data": {
      "text/plain": [
       "RangeIndex(start=0, stop=10279, step=1)"
      ]
     },
     "execution_count": 52,
     "metadata": {},
     "output_type": "execute_result"
    }
   ],
   "source": [
    "dummy_df = dummy_df.reset_index(drop=True)\n",
    "dummy_df.index"
   ]
  },
  {
   "cell_type": "code",
   "execution_count": 53,
   "id": "33b9f6ca",
   "metadata": {},
   "outputs": [
    {
     "data": {
      "text/plain": [
       "RangeIndex(start=0, stop=10279, step=1)"
      ]
     },
     "execution_count": 53,
     "metadata": {},
     "output_type": "execute_result"
    }
   ],
   "source": [
    "gnames = gnames.reset_index(drop=True)\n",
    "gnames.index"
   ]
  },
  {
   "cell_type": "code",
   "execution_count": 54,
   "id": "594c748d",
   "metadata": {},
   "outputs": [],
   "source": [
    "# add target to dataframe\n",
    "dummy_df = pd.concat([dummy_df, gnames, nkills], axis=1)"
   ]
  },
  {
   "cell_type": "code",
   "execution_count": 55,
   "id": "1df7ca54",
   "metadata": {},
   "outputs": [
    {
     "data": {
      "text/plain": [
       "(10279, 1276)"
      ]
     },
     "execution_count": 55,
     "metadata": {},
     "output_type": "execute_result"
    }
   ],
   "source": [
    "dummy_df.shape"
   ]
  },
  {
   "cell_type": "markdown",
   "id": "174409c3",
   "metadata": {},
   "source": [
    "---"
   ]
  },
  {
   "cell_type": "markdown",
   "id": "b65f5b90",
   "metadata": {},
   "source": [
    "### Gotta Create Lists Now... (or not)"
   ]
  },
  {
   "cell_type": "code",
   "execution_count": 56,
   "id": "5392b766",
   "metadata": {},
   "outputs": [],
   "source": [
    "# production_df['year'].nunique(), data['year'].nunique()\n",
    "\n",
    "# production_df['city'].nunique(), data['city'].nunique()\n",
    "\n",
    "# production_df['targtype'].nunique(), data['targtype'].nunique()\n",
    "\n",
    "# prod = production_df['country'].unique()\n",
    "# prod = prod.tolist()\n",
    "\n",
    "# data_list =data.country.unique()\n",
    "# data_list = data_list.tolist()\n",
    "\n",
    "# data_list2 = data.provstate.unique()\n",
    "# data_list2 =data_list2.tolist()\n",
    "\n",
    "# prod2 = production_df['provstate'].unique()\n",
    "# prod2 = prod2.tolist()\n",
    "\n",
    "# prod3 = production_df['city'].unique()\n",
    "# prod3 = prod3.tolist()\n",
    "\n",
    "# data_list3 =data.city.unique()\n",
    "# data_list3 = data_list3.tolist()\n",
    "\n",
    "# # match lists function: \n",
    "# def non_match_elements(list_a, list_b):\n",
    "#     non_match = []\n",
    "#     for i in list_a:\n",
    "#         if i not in list_b:\n",
    "#             non_match.append(i)\n",
    "#     return non_match\n",
    "\n",
    "# non_match = non_match_elements(prod, data_list)\n",
    "# print('Non matched countries: ', non_match)\n",
    "\n",
    "# non_match2 = non_match_elements(prod2, data_list2)\n",
    "# print('Non matched provstates: ', non_match2)\n",
    "\n",
    "# non_match3 = non_match_elements(prod3, data_list3)\n",
    "# print('Non matched cities: ', non_match3)\n",
    "\n",
    "# len(non_match3)\n",
    "\n",
    "\n",
    "# non_match3 = non_match3[:775]\n",
    "\n",
    "# non_match\n",
    "\n",
    "# for match in non_match:\n",
    "#     production_df = production_df[production_df.country!= match]\n",
    "\n",
    "# production_df.shape, data.shape\n",
    "\n",
    "# non_match2\n",
    "\n",
    "# for match2 in non_match2:\n",
    "#     production_df = production_df[production_df.provstate!= match2]\n",
    "    \n",
    "\n",
    "# production_df.shape, data.shape\n",
    "\n",
    "# for match3 in non_match3:\n",
    "#     production_df = production_df[production_df.city!= match3]\n",
    "\n",
    "# production_df.shape, data.shape"
   ]
  },
  {
   "cell_type": "markdown",
   "id": "caded06d",
   "metadata": {},
   "source": [
    "### Production Data Block"
   ]
  },
  {
   "cell_type": "code",
   "execution_count": 57,
   "id": "23578fa1",
   "metadata": {},
   "outputs": [],
   "source": [
    "# size difference between prod df and og model df"
   ]
  },
  {
   "cell_type": "code",
   "execution_count": 58,
   "id": "f9368cfa",
   "metadata": {
    "scrolled": true
   },
   "outputs": [
    {
     "data": {
      "text/plain": [
       "(22259, 10)"
      ]
     },
     "execution_count": 58,
     "metadata": {},
     "output_type": "execute_result"
    }
   ],
   "source": [
    "production_df.shape"
   ]
  },
  {
   "cell_type": "code",
   "execution_count": 59,
   "id": "04f851a1",
   "metadata": {
    "scrolled": true
   },
   "outputs": [],
   "source": [
    "# create a dataframe for the gname target variable\n",
    "gnames2 = pd.DataFrame(production_df.gname)\n",
    "\n",
    "# create nkill df\n",
    "nkills2 = pd.DataFrame(production_df.nkill)\n",
    "\n",
    "scaler2 = MinMaxScaler()\n",
    "\n",
    "scaler2.fit(nkills2)\n",
    "nkills2 = nkills2.rename(columns={0:'nkill'})"
   ]
  },
  {
   "cell_type": "code",
   "execution_count": 60,
   "id": "cc0b26d6",
   "metadata": {},
   "outputs": [],
   "source": [
    "# encode variables\n",
    "dummy_df2 = pd.get_dummies(production_df[['country',\n",
    "                                    'provstate',\n",
    "                                    'city',\n",
    "                                    'suicide',\n",
    "                                    'attack_type', \n",
    "                                    'targtype',  \n",
    "                                    'weaptype',\n",
    "                                    'year']], dummy_na=False, drop_first=[True, True])"
   ]
  },
  {
   "cell_type": "code",
   "execution_count": 61,
   "id": "5a585251",
   "metadata": {
    "scrolled": true
   },
   "outputs": [
    {
     "data": {
      "text/plain": [
       "RangeIndex(start=0, stop=22259, step=1)"
      ]
     },
     "execution_count": 61,
     "metadata": {},
     "output_type": "execute_result"
    }
   ],
   "source": [
    "gnames2 = gnames2.reset_index(drop=True)\n",
    "gnames2.index"
   ]
  },
  {
   "cell_type": "code",
   "execution_count": 62,
   "id": "e69f9896",
   "metadata": {
    "scrolled": true
   },
   "outputs": [
    {
     "data": {
      "text/plain": [
       "RangeIndex(start=0, stop=22259, step=1)"
      ]
     },
     "execution_count": 62,
     "metadata": {},
     "output_type": "execute_result"
    }
   ],
   "source": [
    "dummy_df2 = dummy_df2.reset_index(drop=True)\n",
    "dummy_df2.index"
   ]
  },
  {
   "cell_type": "code",
   "execution_count": 63,
   "id": "f0ddf46c",
   "metadata": {},
   "outputs": [
    {
     "data": {
      "text/plain": [
       "RangeIndex(start=0, stop=22259, step=1)"
      ]
     },
     "execution_count": 63,
     "metadata": {},
     "output_type": "execute_result"
    }
   ],
   "source": [
    "nkills2 = nkills2.reset_index(drop=True)\n",
    "nkills2.index"
   ]
  },
  {
   "cell_type": "code",
   "execution_count": 64,
   "id": "6a643028",
   "metadata": {
    "scrolled": true
   },
   "outputs": [
    {
     "data": {
      "text/plain": [
       "((22259, 1), (22259, 1), (22259, 1274))"
      ]
     },
     "execution_count": 64,
     "metadata": {},
     "output_type": "execute_result"
    }
   ],
   "source": [
    "gnames2.shape, nkills2.shape, dummy_df2.shape"
   ]
  },
  {
   "cell_type": "code",
   "execution_count": 65,
   "id": "17195bb9",
   "metadata": {},
   "outputs": [],
   "source": [
    "# add target to dataframe\n",
    "dummy_df2 = pd.concat([dummy_df2, gnames2, nkills2], axis=1)"
   ]
  },
  {
   "cell_type": "markdown",
   "id": "e39bb60b",
   "metadata": {},
   "source": [
    "### TTS"
   ]
  },
  {
   "cell_type": "code",
   "execution_count": 66,
   "id": "97d73e50",
   "metadata": {},
   "outputs": [],
   "source": [
    "y = set(dummy_df.columns)\n",
    "x = set(dummy_df2.columns)"
   ]
  },
  {
   "cell_type": "code",
   "execution_count": 67,
   "id": "a63a052c",
   "metadata": {},
   "outputs": [
    {
     "data": {
      "text/plain": [
       "0"
      ]
     },
     "execution_count": 67,
     "metadata": {},
     "output_type": "execute_result"
    }
   ],
   "source": [
    "col_diff = y.difference(x)\n",
    "col_diff = list(col_diff)\n",
    "len(col_diff)"
   ]
  },
  {
   "cell_type": "code",
   "execution_count": 68,
   "id": "e6bb98ce",
   "metadata": {},
   "outputs": [
    {
     "data": {
      "text/plain": [
       "0"
      ]
     },
     "execution_count": 68,
     "metadata": {},
     "output_type": "execute_result"
    }
   ],
   "source": [
    "col_diff2 = x.difference(y)\n",
    "col_diff2 = list(col_diff2)\n",
    "len(col_diff2)"
   ]
  },
  {
   "cell_type": "markdown",
   "id": "2923145d",
   "metadata": {},
   "source": [
    "#### Prod DF Size"
   ]
  },
  {
   "cell_type": "code",
   "execution_count": 69,
   "id": "ad656b84",
   "metadata": {},
   "outputs": [],
   "source": [
    "#X_train2= train2.drop(columns=['gname'])\n",
    "#y_train2 = train2.gname\n",
    "\n",
    "#X_validate2 = validate2.drop(columns=['gname'])\n",
    "#y_validate2 = validate2.gname\n",
    "\n",
    "X_test2 = dummy_df2.drop(columns=['gname'])\n",
    "y_test2 = dummy_df2.gname"
   ]
  },
  {
   "cell_type": "code",
   "execution_count": 70,
   "id": "64a01041",
   "metadata": {
    "scrolled": true
   },
   "outputs": [
    {
     "data": {
      "text/plain": [
       "((22259, 1275), (22259,))"
      ]
     },
     "execution_count": 70,
     "metadata": {},
     "output_type": "execute_result"
    }
   ],
   "source": [
    "X_test2.shape, y_test2.shape"
   ]
  },
  {
   "cell_type": "markdown",
   "id": "d50cf682",
   "metadata": {},
   "source": [
    "#### OG DF Size"
   ]
  },
  {
   "cell_type": "code",
   "execution_count": 71,
   "id": "92cf6c12",
   "metadata": {},
   "outputs": [],
   "source": [
    "def train_validate_test_split(df, target, seed=123):\n",
    "    '''\n",
    "    This function takes in a dataframe, the name of the target variable\n",
    "    (for stratification purposes), and an integer for a setting a seed\n",
    "    and splits the data into train, validate and test. \n",
    "    Test is 20% of the original dataset, validate is .30*.80= 24% of the \n",
    "    original dataset, and train is .70*.80= 56% of the original dataset. \n",
    "    The function returns, in this order, train, validate and test dataframes. \n",
    "    '''\n",
    "    train_validate, test = train_test_split(df, test_size=0.27, \n",
    "                                            random_state=seed, \n",
    "                                            stratify=df[target])\n",
    "    train, validate = train_test_split(train_validate, test_size=0.35, \n",
    "                                       random_state=seed,\n",
    "                                       stratify=train_validate[target])\n",
    "    return train, validate, test"
   ]
  },
  {
   "cell_type": "code",
   "execution_count": 72,
   "id": "ad629731",
   "metadata": {},
   "outputs": [],
   "source": [
    "# split into train, validate, test\n",
    "train, validate, test = train_validate_test_split(dummy_df, target='gname', seed=123)\n",
    "\n",
    "# create X & y version of train, where y is a series with just the target variable and X are all the features. \n",
    "\n",
    "X_train= train.drop(columns=['gname'])\n",
    "y_train = train.gname\n",
    "\n",
    "X_validate = validate.drop(columns=['gname'])\n",
    "y_validate = validate.gname\n",
    "\n",
    "X_test = test.drop(columns=['gname'])\n",
    "y_test = test.gname"
   ]
  },
  {
   "cell_type": "code",
   "execution_count": 73,
   "id": "426335bc",
   "metadata": {},
   "outputs": [
    {
     "data": {
      "text/plain": [
       "((4876, 1275), (2627, 1275), (2776, 1275))"
      ]
     },
     "execution_count": 73,
     "metadata": {},
     "output_type": "execute_result"
    }
   ],
   "source": [
    "X_train.shape, X_validate.shape, X_test.shape"
   ]
  },
  {
   "cell_type": "markdown",
   "id": "283bce60",
   "metadata": {},
   "source": [
    "---"
   ]
  },
  {
   "cell_type": "markdown",
   "id": "831062fc",
   "metadata": {},
   "source": [
    "### Create Model"
   ]
  },
  {
   "cell_type": "code",
   "execution_count": 76,
   "id": "51eb6b97",
   "metadata": {},
   "outputs": [
    {
     "name": "stdout",
     "output_type": "stream",
     "text": [
      "Accuracy of Decision Tree classifier on training set: 0.94\n"
     ]
    }
   ],
   "source": [
    "# for classification you can change the algorithm to gini or entropy (information gain).  \n",
    "# Default is gini.\n",
    "\n",
    "clf = DecisionTreeClassifier(max_depth=5, random_state=123)\n",
    "\n",
    "# model.fit(X, y)\n",
    "\n",
    "clf = clf.fit(X_train, y_train)\n",
    "\n",
    "# make prediction on train obeservations\n",
    "\n",
    "y_pred = clf.predict(X_train)\n",
    "\n",
    "# y_pred_proba = clf.predict_proba(X_train2)\n",
    "\n",
    "# Eval model\n",
    "print('Accuracy of Decision Tree classifier on training set: {:.2f}'\n",
    "      .format(clf.score(X_train, y_train)))"
   ]
  },
  {
   "cell_type": "code",
   "execution_count": 77,
   "id": "67eeabc5",
   "metadata": {
    "scrolled": false
   },
   "outputs": [
    {
     "data": {
      "text/html": [
       "<div>\n",
       "<style scoped>\n",
       "    .dataframe tbody tr th:only-of-type {\n",
       "        vertical-align: middle;\n",
       "    }\n",
       "\n",
       "    .dataframe tbody tr th {\n",
       "        vertical-align: top;\n",
       "    }\n",
       "\n",
       "    .dataframe thead th {\n",
       "        text-align: right;\n",
       "    }\n",
       "</style>\n",
       "<table border=\"1\" class=\"dataframe\">\n",
       "  <thead>\n",
       "    <tr style=\"text-align: right;\">\n",
       "      <th></th>\n",
       "      <th>max_depth</th>\n",
       "      <th>train_accuracy</th>\n",
       "      <th>validate_accuracy</th>\n",
       "      <th>difference</th>\n",
       "    </tr>\n",
       "  </thead>\n",
       "  <tbody>\n",
       "    <tr>\n",
       "      <th>0</th>\n",
       "      <td>1</td>\n",
       "      <td>0.614233</td>\n",
       "      <td>0.618576</td>\n",
       "      <td>-0.004343</td>\n",
       "    </tr>\n",
       "    <tr>\n",
       "      <th>1</th>\n",
       "      <td>2</td>\n",
       "      <td>0.766407</td>\n",
       "      <td>0.769699</td>\n",
       "      <td>-0.003292</td>\n",
       "    </tr>\n",
       "    <tr>\n",
       "      <th>2</th>\n",
       "      <td>3</td>\n",
       "      <td>0.836957</td>\n",
       "      <td>0.841644</td>\n",
       "      <td>-0.004688</td>\n",
       "    </tr>\n",
       "    <tr>\n",
       "      <th>3</th>\n",
       "      <td>4</td>\n",
       "      <td>0.898893</td>\n",
       "      <td>0.899886</td>\n",
       "      <td>-0.000993</td>\n",
       "    </tr>\n",
       "    <tr>\n",
       "      <th>4</th>\n",
       "      <td>5</td>\n",
       "      <td>0.940115</td>\n",
       "      <td>0.937571</td>\n",
       "      <td>0.002543</td>\n",
       "    </tr>\n",
       "    <tr>\n",
       "      <th>5</th>\n",
       "      <td>6</td>\n",
       "      <td>0.961649</td>\n",
       "      <td>0.957366</td>\n",
       "      <td>0.004283</td>\n",
       "    </tr>\n",
       "    <tr>\n",
       "      <th>6</th>\n",
       "      <td>7</td>\n",
       "      <td>0.968007</td>\n",
       "      <td>0.958888</td>\n",
       "      <td>0.009118</td>\n",
       "    </tr>\n",
       "    <tr>\n",
       "      <th>7</th>\n",
       "      <td>8</td>\n",
       "      <td>0.969647</td>\n",
       "      <td>0.959650</td>\n",
       "      <td>0.009997</td>\n",
       "    </tr>\n",
       "    <tr>\n",
       "      <th>8</th>\n",
       "      <td>9</td>\n",
       "      <td>0.974569</td>\n",
       "      <td>0.966121</td>\n",
       "      <td>0.008448</td>\n",
       "    </tr>\n",
       "    <tr>\n",
       "      <th>9</th>\n",
       "      <td>10</td>\n",
       "      <td>0.977441</td>\n",
       "      <td>0.963837</td>\n",
       "      <td>0.013603</td>\n",
       "    </tr>\n",
       "    <tr>\n",
       "      <th>10</th>\n",
       "      <td>11</td>\n",
       "      <td>0.982363</td>\n",
       "      <td>0.963456</td>\n",
       "      <td>0.018906</td>\n",
       "    </tr>\n",
       "    <tr>\n",
       "      <th>11</th>\n",
       "      <td>12</td>\n",
       "      <td>0.985644</td>\n",
       "      <td>0.963076</td>\n",
       "      <td>0.022568</td>\n",
       "    </tr>\n",
       "    <tr>\n",
       "      <th>12</th>\n",
       "      <td>13</td>\n",
       "      <td>0.988925</td>\n",
       "      <td>0.964218</td>\n",
       "      <td>0.024708</td>\n",
       "    </tr>\n",
       "    <tr>\n",
       "      <th>13</th>\n",
       "      <td>14</td>\n",
       "      <td>0.990361</td>\n",
       "      <td>0.964598</td>\n",
       "      <td>0.025763</td>\n",
       "    </tr>\n",
       "  </tbody>\n",
       "</table>\n",
       "</div>"
      ],
      "text/plain": [
       "    max_depth  train_accuracy  validate_accuracy  difference\n",
       "0           1        0.614233           0.618576   -0.004343\n",
       "1           2        0.766407           0.769699   -0.003292\n",
       "2           3        0.836957           0.841644   -0.004688\n",
       "3           4        0.898893           0.899886   -0.000993\n",
       "4           5        0.940115           0.937571    0.002543\n",
       "5           6        0.961649           0.957366    0.004283\n",
       "6           7        0.968007           0.958888    0.009118\n",
       "7           8        0.969647           0.959650    0.009997\n",
       "8           9        0.974569           0.966121    0.008448\n",
       "9          10        0.977441           0.963837    0.013603\n",
       "10         11        0.982363           0.963456    0.018906\n",
       "11         12        0.985644           0.963076    0.022568\n",
       "12         13        0.988925           0.964218    0.024708\n",
       "13         14        0.990361           0.964598    0.025763"
      ]
     },
     "execution_count": 77,
     "metadata": {},
     "output_type": "execute_result"
    }
   ],
   "source": [
    "metrics = []\n",
    "for i in range(1, 15):\n",
    "    tree = DecisionTreeClassifier(max_depth=i, random_state=17)\n",
    "    tree = tree.fit(X_train, y_train)\n",
    "    in_sample_accuracy = tree.score(X_train, y_train)\n",
    "    \n",
    "    out_of_sample_accuracy = tree.score(X_validate, y_validate)\n",
    "    output = {\n",
    "        \"max_depth\": i,\n",
    "        \"train_accuracy\": in_sample_accuracy,\n",
    "        \"validate_accuracy\": out_of_sample_accuracy\n",
    "    }\n",
    "    \n",
    "    metrics.append(output)\n",
    "    \n",
    "dt_df = pd.DataFrame(metrics)\n",
    "dt_df[\"difference\"] = dt_df.train_accuracy - dt_df.validate_accuracy\n",
    "dt_df"
   ]
  },
  {
   "cell_type": "code",
   "execution_count": 78,
   "id": "76494422",
   "metadata": {
    "scrolled": false
   },
   "outputs": [
    {
     "data": {
      "image/png": "[encoded data removed]",
      "text/plain": [
       "<Figure size 1800x1440 with 1 Axes>"
      ]
     },
     "metadata": {},
     "output_type": "display_data"
    }
   ],
   "source": [
    "plt.rcParams['figure.figsize'] = [25, 20]\n",
    "sns.set(font_scale = 3)\n",
    "dt_df[['train_accuracy', 'validate_accuracy', 'difference' ]].plot()\n",
    "plt.title(\"Decision Tree Model Accuracies\")\n",
    "plt.ylabel(\"Accuracy\")\n",
    "plt.xlabel(\"Max Depth\")\n",
    "plt.vlines(x=[21], ymin=0, ymax=.8, colors='r', linestyles='dashed')\n",
    "plt.show()"
   ]
  },
  {
   "cell_type": "code",
   "execution_count": 79,
   "id": "436bf16c",
   "metadata": {},
   "outputs": [
    {
     "data": {
      "text/plain": [
       "0.9340778097982709"
      ]
     },
     "execution_count": 79,
     "metadata": {},
     "output_type": "execute_result"
    }
   ],
   "source": [
    "tree = DecisionTreeClassifier(max_depth=5, random_state=123)\n",
    "\n",
    "tree = tree.fit(X_train, y_train)\n",
    "\n",
    "tree.score(X_test, y_test)"
   ]
  },
  {
   "cell_type": "code",
   "execution_count": 80,
   "id": "6bfcabd6",
   "metadata": {},
   "outputs": [
    {
     "data": {
      "text/plain": [
       "[Text(909.7826086956521, 747.4499999999999, 'country_iraq <= 0.5\\ngini = 0.767\\nsamples = 4876\\nvalue = [222, 614, 106, 1519, 98, 205, 162, 1617, 333]\\nclass = Taliban'),\n",
       " Text(545.8695652173913, 611.55, 'country_somalia <= 0.5\\ngini = 0.701\\nsamples = 3276\\nvalue = [0, 614, 106, 141, 98, 205, 162, 1617, 333]\\nclass = Taliban'),\n",
       " Text(485.2173913043478, 475.65, 'country_pakistan <= 0.5\\ngini = 0.6\\nsamples = 2662\\nvalue = [0, 0, 106, 141, 98, 205, 162, 1617, 333]\\nclass = Taliban'),\n",
       " Text(242.6086956521739, 339.74999999999994, 'country_turkey <= 0.5\\ngini = 0.435\\nsamples = 2178\\nvalue = [0, 0, 0, 141, 59, 205, 162, 1609, 2]\\nclass = Taliban'),\n",
       " Text(121.30434782608695, 203.8499999999999, 'country_egypt <= 0.5\\ngini = 0.302\\nsamples = 1941\\nvalue = [0, 0, 0, 109, 59, 0, 162, 1609, 2]\\nclass = Taliban'),\n",
       " Text(60.65217391304348, 67.94999999999993, 'gini = 0.177\\nsamples = 1779\\nvalue = [0, 0, 0, 109, 59, 0, 0, 1609, 2]\\nclass = Taliban'),\n",
       " Text(181.95652173913044, 67.94999999999993, 'gini = 0.0\\nsamples = 162\\nvalue = [0, 0, 0, 0, 0, 0, 162, 0, 0]\\nclass = Sinai Province of the Islamic State'),\n",
       " Text(363.9130434782609, 203.8499999999999, \"provstate_Kilis <= 0.5\\ngini = 0.234\\nsamples = 237\\nvalue = [0, 0, 0, 32, 0, 205, 0, 0, 0]\\nclass = Kurdistan Workers' Party (PKK)\"),\n",
       " Text(303.2608695652174, 67.94999999999993, \"gini = 0.112\\nsamples = 218\\nvalue = [0, 0, 0, 13, 0, 205, 0, 0, 0]\\nclass = Kurdistan Workers' Party (PKK)\"),\n",
       " Text(424.5652173913043, 67.94999999999993, 'gini = 0.0\\nsamples = 19\\nvalue = [0, 0, 0, 19, 0, 0, 0, 0, 0]\\nclass = Islamic State of Iraq and the Levant (ISIL)'),\n",
       " Text(727.8260869565217, 339.74999999999994, 'provstate_Balochistan <= 0.5\\ngini = 0.478\\nsamples = 484\\nvalue = [0, 0, 106, 0, 39, 0, 0, 8, 331]\\nclass = Tehrik-i-Taliban Pakistan (TTP)'),\n",
       " Text(606.5217391304348, 203.8499999999999, 'targtype_Transportation <= 0.5\\ngini = 0.202\\nsamples = 355\\nvalue = [0, 0, 8, 0, 25, 0, 0, 6, 316]\\nclass = Tehrik-i-Taliban Pakistan (TTP)'),\n",
       " Text(545.8695652173913, 67.94999999999993, 'gini = 0.184\\nsamples = 350\\nvalue = [0, 0, 4, 0, 25, 0, 0, 6, 315]\\nclass = Tehrik-i-Taliban Pakistan (TTP)'),\n",
       " Text(667.1739130434783, 67.94999999999993, 'gini = 0.32\\nsamples = 5\\nvalue = [0, 0, 4, 0, 0, 0, 0, 0, 1]\\nclass = Baloch Republican Army (BRA)'),\n",
       " Text(849.1304347826086, 203.8499999999999, 'city_Quetta <= 0.5\\ngini = 0.397\\nsamples = 129\\nvalue = [0, 0, 98, 0, 14, 0, 0, 2, 15]\\nclass = Baloch Republican Army (BRA)'),\n",
       " Text(788.4782608695652, 67.94999999999993, 'gini = 0.163\\nsamples = 104\\nvalue = [0, 0, 95, 0, 3, 0, 0, 2, 4]\\nclass = Baloch Republican Army (BRA)'),\n",
       " Text(909.7826086956521, 67.94999999999993, 'gini = 0.598\\nsamples = 25\\nvalue = [0, 0, 3, 0, 11, 0, 0, 0, 11]\\nclass = Khorasan Chapter of the Islamic State'),\n",
       " Text(606.5217391304348, 475.65, 'gini = 0.0\\nsamples = 614\\nvalue = [0, 614, 0, 0, 0, 0, 0, 0, 0]\\nclass = Al-Shabaab'),\n",
       " Text(1273.695652173913, 611.55, 'year_2012 <= 0.5\\ngini = 0.239\\nsamples = 1600\\nvalue = [222, 0, 0, 1378, 0, 0, 0, 0, 0]\\nclass = Islamic State of Iraq and the Levant (ISIL)'),\n",
       " Text(1213.0434782608695, 475.65, 'year_2005 <= 0.5\\ngini = 0.12\\nsamples = 1472\\nvalue = [94, 0, 0, 1378, 0, 0, 0, 0, 0]\\nclass = Islamic State of Iraq and the Levant (ISIL)'),\n",
       " Text(1152.391304347826, 339.74999999999994, 'year_2011 <= 0.5\\ngini = 0.096\\nsamples = 1451\\nvalue = [73, 0, 0, 1378, 0, 0, 0, 0, 0]\\nclass = Islamic State of Iraq and the Levant (ISIL)'),\n",
       " Text(1091.7391304347825, 203.8499999999999, 'year_2007 <= 0.5\\ngini = 0.079\\nsamples = 1437\\nvalue = [59, 0, 0, 1378, 0, 0, 0, 0, 0]\\nclass = Islamic State of Iraq and the Levant (ISIL)'),\n",
       " Text(1031.086956521739, 67.94999999999993, 'gini = 0.068\\nsamples = 1428\\nvalue = [50, 0, 0, 1378, 0, 0, 0, 0, 0]\\nclass = Islamic State of Iraq and the Levant (ISIL)'),\n",
       " Text(1152.391304347826, 67.94999999999993, 'gini = 0.0\\nsamples = 9\\nvalue = [9, 0, 0, 0, 0, 0, 0, 0, 0]\\nclass = Al-Qaida in Iraq'),\n",
       " Text(1213.0434782608695, 203.8499999999999, 'gini = 0.0\\nsamples = 14\\nvalue = [14, 0, 0, 0, 0, 0, 0, 0, 0]\\nclass = Al-Qaida in Iraq'),\n",
       " Text(1273.695652173913, 339.74999999999994, 'gini = 0.0\\nsamples = 21\\nvalue = [21, 0, 0, 0, 0, 0, 0, 0, 0]\\nclass = Al-Qaida in Iraq'),\n",
       " Text(1334.3478260869565, 475.65, 'gini = 0.0\\nsamples = 128\\nvalue = [128, 0, 0, 0, 0, 0, 0, 0, 0]\\nclass = Al-Qaida in Iraq')]"
      ]
     },
     "execution_count": 80,
     "metadata": {},
     "output_type": "execute_result"
    },
    {
     "data": {
      "image/png": "[encoded data removed]",
      "text/plain": [
       "<Figure size 1800x1080 with 1 Axes>"
      ]
     },
     "metadata": {},
     "output_type": "display_data"
    }
   ],
   "source": [
    "plt.figure(figsize=(25, 15))\n",
    "plot_tree(clf, feature_names=X_train.columns, class_names=clf.classes_, rounded=True)"
   ]
  },
  {
   "cell_type": "markdown",
   "id": "9577828c",
   "metadata": {},
   "source": [
    "### Testing on Unk DF"
   ]
  },
  {
   "cell_type": "code",
   "execution_count": 81,
   "id": "03320a40",
   "metadata": {},
   "outputs": [],
   "source": [
    "# for classification you can change the algorithm to gini or entropy (information gain).  \n",
    "# Default is gini.\n",
    "\n",
    "clf = DecisionTreeClassifier(max_depth=4, random_state=123)\n",
    "\n",
    "# model.fit(X, y)\n",
    "\n",
    "clf = clf.fit(X_train, y_train)\n",
    "\n",
    "# make prediction on train obeservations\n",
    "\n",
    "y_pred = clf.predict(X_test2)"
   ]
  },
  {
   "cell_type": "code",
   "execution_count": 82,
   "id": "c3d85bf5",
   "metadata": {},
   "outputs": [],
   "source": [
    "unk = pd.DataFrame(y_test2)\n",
    "labels = pd.DataFrame(y_pred)"
   ]
  },
  {
   "cell_type": "code",
   "execution_count": 85,
   "id": "1ce93768",
   "metadata": {
    "scrolled": true
   },
   "outputs": [
    {
     "data": {
      "text/html": [
       "<div>\n",
       "<style scoped>\n",
       "    .dataframe tbody tr th:only-of-type {\n",
       "        vertical-align: middle;\n",
       "    }\n",
       "\n",
       "    .dataframe tbody tr th {\n",
       "        vertical-align: top;\n",
       "    }\n",
       "\n",
       "    .dataframe thead th {\n",
       "        text-align: right;\n",
       "    }\n",
       "</style>\n",
       "<table border=\"1\" class=\"dataframe\">\n",
       "  <thead>\n",
       "    <tr style=\"text-align: right;\">\n",
       "      <th></th>\n",
       "      <th>0</th>\n",
       "    </tr>\n",
       "  </thead>\n",
       "  <tbody>\n",
       "    <tr>\n",
       "      <th>0</th>\n",
       "      <td>Kurdistan Workers' Party (PKK)</td>\n",
       "    </tr>\n",
       "    <tr>\n",
       "      <th>1</th>\n",
       "      <td>Kurdistan Workers' Party (PKK)</td>\n",
       "    </tr>\n",
       "    <tr>\n",
       "      <th>2</th>\n",
       "      <td>Kurdistan Workers' Party (PKK)</td>\n",
       "    </tr>\n",
       "    <tr>\n",
       "      <th>3</th>\n",
       "      <td>Tehrik-i-Taliban Pakistan (TTP)</td>\n",
       "    </tr>\n",
       "    <tr>\n",
       "      <th>4</th>\n",
       "      <td>Tehrik-i-Taliban Pakistan (TTP)</td>\n",
       "    </tr>\n",
       "    <tr>\n",
       "      <th>...</th>\n",
       "      <td>...</td>\n",
       "    </tr>\n",
       "    <tr>\n",
       "      <th>22254</th>\n",
       "      <td>Islamic State of Iraq and the Levant (ISIL)</td>\n",
       "    </tr>\n",
       "    <tr>\n",
       "      <th>22255</th>\n",
       "      <td>Islamic State of Iraq and the Levant (ISIL)</td>\n",
       "    </tr>\n",
       "    <tr>\n",
       "      <th>22256</th>\n",
       "      <td>Taliban</td>\n",
       "    </tr>\n",
       "    <tr>\n",
       "      <th>22257</th>\n",
       "      <td>Islamic State of Iraq and the Levant (ISIL)</td>\n",
       "    </tr>\n",
       "    <tr>\n",
       "      <th>22258</th>\n",
       "      <td>Taliban</td>\n",
       "    </tr>\n",
       "  </tbody>\n",
       "</table>\n",
       "<p>22259 rows × 1 columns</p>\n",
       "</div>"
      ],
      "text/plain": [
       "                                                 0\n",
       "0                   Kurdistan Workers' Party (PKK)\n",
       "1                   Kurdistan Workers' Party (PKK)\n",
       "2                   Kurdistan Workers' Party (PKK)\n",
       "3                  Tehrik-i-Taliban Pakistan (TTP)\n",
       "4                  Tehrik-i-Taliban Pakistan (TTP)\n",
       "...                                            ...\n",
       "22254  Islamic State of Iraq and the Levant (ISIL)\n",
       "22255  Islamic State of Iraq and the Levant (ISIL)\n",
       "22256                                      Taliban\n",
       "22257  Islamic State of Iraq and the Levant (ISIL)\n",
       "22258                                      Taliban\n",
       "\n",
       "[22259 rows x 1 columns]"
      ]
     },
     "execution_count": 85,
     "metadata": {},
     "output_type": "execute_result"
    }
   ],
   "source": [
    "labels"
   ]
  },
  {
   "cell_type": "code",
   "execution_count": 86,
   "id": "b1f08964",
   "metadata": {},
   "outputs": [],
   "source": [
    "production_df2 = production_df2.reset_index()"
   ]
  },
  {
   "cell_type": "code",
   "execution_count": 88,
   "id": "9cb5f083",
   "metadata": {},
   "outputs": [],
   "source": [
    "production_df2['predictions'] = labels"
   ]
  },
  {
   "cell_type": "code",
   "execution_count": 89,
   "id": "16e766de",
   "metadata": {},
   "outputs": [
    {
     "data": {
      "text/html": [
       "<div>\n",
       "<style scoped>\n",
       "    .dataframe tbody tr th:only-of-type {\n",
       "        vertical-align: middle;\n",
       "    }\n",
       "\n",
       "    .dataframe tbody tr th {\n",
       "        vertical-align: top;\n",
       "    }\n",
       "\n",
       "    .dataframe thead th {\n",
       "        text-align: right;\n",
       "    }\n",
       "</style>\n",
       "<table border=\"1\" class=\"dataframe\">\n",
       "  <thead>\n",
       "    <tr style=\"text-align: right;\">\n",
       "      <th></th>\n",
       "      <th>date</th>\n",
       "      <th>year</th>\n",
       "      <th>month</th>\n",
       "      <th>day</th>\n",
       "      <th>country</th>\n",
       "      <th>provstate</th>\n",
       "      <th>city</th>\n",
       "      <th>latitude</th>\n",
       "      <th>longitude</th>\n",
       "      <th>suicide</th>\n",
       "      <th>attack_type</th>\n",
       "      <th>targtype</th>\n",
       "      <th>gname</th>\n",
       "      <th>weaptype</th>\n",
       "      <th>nkill</th>\n",
       "      <th>predictions</th>\n",
       "    </tr>\n",
       "  </thead>\n",
       "  <tbody>\n",
       "    <tr>\n",
       "      <th>0</th>\n",
       "      <td>2001-01-01</td>\n",
       "      <td>2001</td>\n",
       "      <td>1</td>\n",
       "      <td>1</td>\n",
       "      <td>turkey</td>\n",
       "      <td>Istanbul</td>\n",
       "      <td>Istanbul</td>\n",
       "      <td>41.106178</td>\n",
       "      <td>28.689863</td>\n",
       "      <td>0</td>\n",
       "      <td>Bombing/Explosion</td>\n",
       "      <td>Private Citizens &amp; Property</td>\n",
       "      <td>Unknown</td>\n",
       "      <td>Explosives</td>\n",
       "      <td>0.0</td>\n",
       "      <td>Kurdistan Workers' Party (PKK)</td>\n",
       "    </tr>\n",
       "    <tr>\n",
       "      <th>1</th>\n",
       "      <td>2001-01-10</td>\n",
       "      <td>2001</td>\n",
       "      <td>1</td>\n",
       "      <td>10</td>\n",
       "      <td>turkey</td>\n",
       "      <td>Istanbul</td>\n",
       "      <td>Istanbul</td>\n",
       "      <td>41.106178</td>\n",
       "      <td>28.689863</td>\n",
       "      <td>0</td>\n",
       "      <td>Armed Assault</td>\n",
       "      <td>Police</td>\n",
       "      <td>Unknown</td>\n",
       "      <td>Firearms</td>\n",
       "      <td>1.0</td>\n",
       "      <td>Kurdistan Workers' Party (PKK)</td>\n",
       "    </tr>\n",
       "    <tr>\n",
       "      <th>2</th>\n",
       "      <td>2001-01-23</td>\n",
       "      <td>2001</td>\n",
       "      <td>1</td>\n",
       "      <td>23</td>\n",
       "      <td>turkey</td>\n",
       "      <td>Mersin</td>\n",
       "      <td>Unknown</td>\n",
       "      <td>36.806853</td>\n",
       "      <td>34.628893</td>\n",
       "      <td>0</td>\n",
       "      <td>Bombing/Explosion</td>\n",
       "      <td>Government (General)</td>\n",
       "      <td>Unknown</td>\n",
       "      <td>Explosives</td>\n",
       "      <td>0.0</td>\n",
       "      <td>Kurdistan Workers' Party (PKK)</td>\n",
       "    </tr>\n",
       "    <tr>\n",
       "      <th>3</th>\n",
       "      <td>2001-01-28</td>\n",
       "      <td>2001</td>\n",
       "      <td>1</td>\n",
       "      <td>28</td>\n",
       "      <td>pakistan</td>\n",
       "      <td>Sindh</td>\n",
       "      <td>Karachi</td>\n",
       "      <td>24.891115</td>\n",
       "      <td>67.143311</td>\n",
       "      <td>0</td>\n",
       "      <td>Assassination</td>\n",
       "      <td>Religious Figures/Institutions</td>\n",
       "      <td>Unknown</td>\n",
       "      <td>Firearms</td>\n",
       "      <td>5.0</td>\n",
       "      <td>Tehrik-i-Taliban Pakistan (TTP)</td>\n",
       "    </tr>\n",
       "    <tr>\n",
       "      <th>4</th>\n",
       "      <td>2001-02-07</td>\n",
       "      <td>2001</td>\n",
       "      <td>2</td>\n",
       "      <td>7</td>\n",
       "      <td>pakistan</td>\n",
       "      <td>Islamabad Capital Territory</td>\n",
       "      <td>Islamabad</td>\n",
       "      <td>33.671638</td>\n",
       "      <td>73.056068</td>\n",
       "      <td>0</td>\n",
       "      <td>Bombing/Explosion</td>\n",
       "      <td>Private Citizens &amp; Property</td>\n",
       "      <td>Unknown</td>\n",
       "      <td>Explosives</td>\n",
       "      <td>0.0</td>\n",
       "      <td>Tehrik-i-Taliban Pakistan (TTP)</td>\n",
       "    </tr>\n",
       "    <tr>\n",
       "      <th>...</th>\n",
       "      <td>...</td>\n",
       "      <td>...</td>\n",
       "      <td>...</td>\n",
       "      <td>...</td>\n",
       "      <td>...</td>\n",
       "      <td>...</td>\n",
       "      <td>...</td>\n",
       "      <td>...</td>\n",
       "      <td>...</td>\n",
       "      <td>...</td>\n",
       "      <td>...</td>\n",
       "      <td>...</td>\n",
       "      <td>...</td>\n",
       "      <td>...</td>\n",
       "      <td>...</td>\n",
       "      <td>...</td>\n",
       "    </tr>\n",
       "    <tr>\n",
       "      <th>22254</th>\n",
       "      <td>2017-12-30</td>\n",
       "      <td>2017</td>\n",
       "      <td>12</td>\n",
       "      <td>30</td>\n",
       "      <td>iraq</td>\n",
       "      <td>Baghdad</td>\n",
       "      <td>Baghdad</td>\n",
       "      <td>33.303566</td>\n",
       "      <td>44.371773</td>\n",
       "      <td>0</td>\n",
       "      <td>Bombing/Explosion</td>\n",
       "      <td>Business</td>\n",
       "      <td>Unknown</td>\n",
       "      <td>Explosives</td>\n",
       "      <td>0.0</td>\n",
       "      <td>Islamic State of Iraq and the Levant (ISIL)</td>\n",
       "    </tr>\n",
       "    <tr>\n",
       "      <th>22255</th>\n",
       "      <td>2017-12-30</td>\n",
       "      <td>2017</td>\n",
       "      <td>12</td>\n",
       "      <td>30</td>\n",
       "      <td>iraq</td>\n",
       "      <td>Kirkuk</td>\n",
       "      <td>Kirkuk</td>\n",
       "      <td>35.452110</td>\n",
       "      <td>44.375465</td>\n",
       "      <td>0</td>\n",
       "      <td>Bombing/Explosion</td>\n",
       "      <td>Business</td>\n",
       "      <td>Unknown</td>\n",
       "      <td>Explosives</td>\n",
       "      <td>0.0</td>\n",
       "      <td>Islamic State of Iraq and the Levant (ISIL)</td>\n",
       "    </tr>\n",
       "    <tr>\n",
       "      <th>22256</th>\n",
       "      <td>2017-12-30</td>\n",
       "      <td>2017</td>\n",
       "      <td>12</td>\n",
       "      <td>30</td>\n",
       "      <td>afghanistan</td>\n",
       "      <td>Balkh</td>\n",
       "      <td>Mazari Sharif</td>\n",
       "      <td>36.709930</td>\n",
       "      <td>67.115700</td>\n",
       "      <td>0</td>\n",
       "      <td>Bombing/Explosion</td>\n",
       "      <td>Private Citizens &amp; Property</td>\n",
       "      <td>Unknown</td>\n",
       "      <td>Explosives</td>\n",
       "      <td>0.0</td>\n",
       "      <td>Taliban</td>\n",
       "    </tr>\n",
       "    <tr>\n",
       "      <th>22257</th>\n",
       "      <td>2017-12-30</td>\n",
       "      <td>2017</td>\n",
       "      <td>12</td>\n",
       "      <td>30</td>\n",
       "      <td>iraq</td>\n",
       "      <td>Kirkuk</td>\n",
       "      <td>Kirkuk</td>\n",
       "      <td>35.452110</td>\n",
       "      <td>44.375465</td>\n",
       "      <td>0</td>\n",
       "      <td>Bombing/Explosion</td>\n",
       "      <td>Business</td>\n",
       "      <td>Unknown</td>\n",
       "      <td>Explosives</td>\n",
       "      <td>0.0</td>\n",
       "      <td>Islamic State of Iraq and the Levant (ISIL)</td>\n",
       "    </tr>\n",
       "    <tr>\n",
       "      <th>22258</th>\n",
       "      <td>2017-12-31</td>\n",
       "      <td>2017</td>\n",
       "      <td>12</td>\n",
       "      <td>31</td>\n",
       "      <td>afghanistan</td>\n",
       "      <td>Faryab</td>\n",
       "      <td>Maymana</td>\n",
       "      <td>35.921051</td>\n",
       "      <td>64.774544</td>\n",
       "      <td>0</td>\n",
       "      <td>Bombing/Explosion</td>\n",
       "      <td>Business</td>\n",
       "      <td>Unknown</td>\n",
       "      <td>Explosives</td>\n",
       "      <td>0.0</td>\n",
       "      <td>Taliban</td>\n",
       "    </tr>\n",
       "  </tbody>\n",
       "</table>\n",
       "<p>22259 rows × 16 columns</p>\n",
       "</div>"
      ],
      "text/plain": [
       "            date  year  month  day      country                    provstate  \\\n",
       "0     2001-01-01  2001      1    1       turkey                     Istanbul   \n",
       "1     2001-01-10  2001      1   10       turkey                     Istanbul   \n",
       "2     2001-01-23  2001      1   23       turkey                       Mersin   \n",
       "3     2001-01-28  2001      1   28     pakistan                        Sindh   \n",
       "4     2001-02-07  2001      2    7     pakistan  Islamabad Capital Territory   \n",
       "...          ...   ...    ...  ...          ...                          ...   \n",
       "22254 2017-12-30  2017     12   30         iraq                      Baghdad   \n",
       "22255 2017-12-30  2017     12   30         iraq                       Kirkuk   \n",
       "22256 2017-12-30  2017     12   30  afghanistan                        Balkh   \n",
       "22257 2017-12-30  2017     12   30         iraq                       Kirkuk   \n",
       "22258 2017-12-31  2017     12   31  afghanistan                       Faryab   \n",
       "\n",
       "                city   latitude  longitude  suicide        attack_type  \\\n",
       "0           Istanbul  41.106178  28.689863        0  Bombing/Explosion   \n",
       "1           Istanbul  41.106178  28.689863        0      Armed Assault   \n",
       "2            Unknown  36.806853  34.628893        0  Bombing/Explosion   \n",
       "3            Karachi  24.891115  67.143311        0      Assassination   \n",
       "4          Islamabad  33.671638  73.056068        0  Bombing/Explosion   \n",
       "...              ...        ...        ...      ...                ...   \n",
       "22254        Baghdad  33.303566  44.371773        0  Bombing/Explosion   \n",
       "22255         Kirkuk  35.452110  44.375465        0  Bombing/Explosion   \n",
       "22256  Mazari Sharif  36.709930  67.115700        0  Bombing/Explosion   \n",
       "22257         Kirkuk  35.452110  44.375465        0  Bombing/Explosion   \n",
       "22258        Maymana  35.921051  64.774544        0  Bombing/Explosion   \n",
       "\n",
       "                             targtype    gname    weaptype  nkill  \\\n",
       "0         Private Citizens & Property  Unknown  Explosives    0.0   \n",
       "1                              Police  Unknown    Firearms    1.0   \n",
       "2                Government (General)  Unknown  Explosives    0.0   \n",
       "3      Religious Figures/Institutions  Unknown    Firearms    5.0   \n",
       "4         Private Citizens & Property  Unknown  Explosives    0.0   \n",
       "...                               ...      ...         ...    ...   \n",
       "22254                        Business  Unknown  Explosives    0.0   \n",
       "22255                        Business  Unknown  Explosives    0.0   \n",
       "22256     Private Citizens & Property  Unknown  Explosives    0.0   \n",
       "22257                        Business  Unknown  Explosives    0.0   \n",
       "22258                        Business  Unknown  Explosives    0.0   \n",
       "\n",
       "                                       predictions  \n",
       "0                   Kurdistan Workers' Party (PKK)  \n",
       "1                   Kurdistan Workers' Party (PKK)  \n",
       "2                   Kurdistan Workers' Party (PKK)  \n",
       "3                  Tehrik-i-Taliban Pakistan (TTP)  \n",
       "4                  Tehrik-i-Taliban Pakistan (TTP)  \n",
       "...                                            ...  \n",
       "22254  Islamic State of Iraq and the Levant (ISIL)  \n",
       "22255  Islamic State of Iraq and the Levant (ISIL)  \n",
       "22256                                      Taliban  \n",
       "22257  Islamic State of Iraq and the Levant (ISIL)  \n",
       "22258                                      Taliban  \n",
       "\n",
       "[22259 rows x 16 columns]"
      ]
     },
     "execution_count": 89,
     "metadata": {},
     "output_type": "execute_result"
    }
   ],
   "source": [
    "production_df2"
   ]
  },
  {
   "cell_type": "code",
   "execution_count": 92,
   "id": "4b077c69",
   "metadata": {},
   "outputs": [],
   "source": [
    "production_df2.to_csv('terrorism_predictions.csv')"
   ]
  },
  {
   "cell_type": "code",
   "execution_count": 97,
   "id": "7ca313bf",
   "metadata": {},
   "outputs": [
    {
     "data": {
      "text/plain": [
       "Taliban                                        0.331647\n",
       "Islamic State of Iraq and the Levant (ISIL)    0.311606\n",
       "Al-Shabaab                                     0.125888\n",
       "Tehrik-i-Taliban Pakistan (TTP)                0.068295\n",
       "Al-Qaida in Iraq                               0.045627\n",
       "Kurdistan Workers' Party (PKK)                 0.041930\n",
       "Sinai Province of the Islamic State            0.033174\n",
       "Baloch Republican Army (BRA)                   0.021695\n",
       "Khorasan Chapter of the Islamic State          0.020138\n",
       "Name: gname, dtype: float64"
      ]
     },
     "execution_count": 97,
     "metadata": {},
     "output_type": "execute_result"
    }
   ],
   "source": [
    "data.gname.value_counts(1)"
   ]
  },
  {
   "cell_type": "code",
   "execution_count": null,
   "id": "aa2abbac",
   "metadata": {},
   "outputs": [],
   "source": []
  }
 ],
 "metadata": {
  "kernelspec": {
   "display_name": "Python 3 (ipykernel)",
   "language": "python",
   "name": "python3"
  },
  "language_info": {
   "codemirror_mode": {
    "name": "ipython",
    "version": 3
   },
   "file_extension": ".py",
   "mimetype": "text/x-python",
   "name": "python",
   "nbconvert_exporter": "python",
   "pygments_lexer": "ipython3",
   "version": "3.9.7"
  }
 },
 "nbformat": 4,
 "nbformat_minor": 5
}
