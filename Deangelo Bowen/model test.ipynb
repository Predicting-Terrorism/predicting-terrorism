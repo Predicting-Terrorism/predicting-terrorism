{
 "cells": [
  {
   "cell_type": "code",
   "execution_count": 1,
   "id": "792f087b",
   "metadata": {},
   "outputs": [],
   "source": [
    "import model as m"
   ]
  },
  {
   "cell_type": "code",
   "execution_count": 2,
   "id": "356b17ee",
   "metadata": {},
   "outputs": [],
   "source": [
    "data, df1, df2 =m.create_model_df()"
   ]
  },
  {
   "cell_type": "code",
   "execution_count": 3,
   "id": "76801dc7",
   "metadata": {},
   "outputs": [],
   "source": [
    "df1, data = m.loop_boop(df1, data)"
   ]
  },
  {
   "cell_type": "code",
   "execution_count": 4,
   "id": "fc2951ed",
   "metadata": {},
   "outputs": [
    {
     "name": "stdout",
     "output_type": "stream",
     "text": [
      "10279 10279 10279\n"
     ]
    }
   ],
   "source": [
    "gnames, nkills =m.scaling_func(data)"
   ]
  },
  {
   "cell_type": "code",
   "execution_count": 5,
   "id": "d4c3f848",
   "metadata": {},
   "outputs": [
    {
     "name": "stdout",
     "output_type": "stream",
     "text": [
      "22259 22259 22259\n"
     ]
    }
   ],
   "source": [
    "gnames2, nkills2 =m.scaling_func(df1)"
   ]
  },
  {
   "cell_type": "code",
   "execution_count": 6,
   "id": "cb4bd5aa",
   "metadata": {},
   "outputs": [
    {
     "name": "stdout",
     "output_type": "stream",
     "text": [
      "(10279, 1276)\n"
     ]
    }
   ],
   "source": [
    "dummy_df = m.dummy_df(data, gnames, nkills)"
   ]
  },
  {
   "cell_type": "code",
   "execution_count": 7,
   "id": "f4c77c76",
   "metadata": {},
   "outputs": [
    {
     "name": "stdout",
     "output_type": "stream",
     "text": [
      "(22259, 1276)\n"
     ]
    }
   ],
   "source": [
    "dummy_df2 = m.dummy_df(df1, gnames2, nkills2)"
   ]
  },
  {
   "cell_type": "code",
   "execution_count": null,
   "id": "6c1dac28",
   "metadata": {},
   "outputs": [],
   "source": []
  }
 ],
 "metadata": {
  "kernelspec": {
   "display_name": "Python 3 (ipykernel)",
   "language": "python",
   "name": "python3"
  },
  "language_info": {
   "codemirror_mode": {
    "name": "ipython",
    "version": 3
   },
   "file_extension": ".py",
   "mimetype": "text/x-python",
   "name": "python",
   "nbconvert_exporter": "python",
   "pygments_lexer": "ipython3",
   "version": "3.9.7"
  }
 },
 "nbformat": 4,
 "nbformat_minor": 5
}
