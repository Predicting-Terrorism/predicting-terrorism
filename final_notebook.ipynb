{
 "cells": [
  {
   "cell_type": "markdown",
   "id": "bede5240",
   "metadata": {},
   "source": [
    "# Predicting Terrorism in the Middle East "
   ]
  },
  {
   "cell_type": "markdown",
   "id": "3f66f70a",
   "metadata": {},
   "source": [
    "## Contributors: \n",
    "- [Deangelo Bowen](https://github.com/DeangeloBowen1)\n",
    "- [Cody Clonts](https://github.com/codyclonts)\n",
    "- [Fred Lindsey](https://github.com/fred-lindsey)\n",
    "\n",
    "_Link to contributors github(s)_"
   ]
  },
  {
   "cell_type": "markdown",
   "id": "6fcd3d8b",
   "metadata": {},
   "source": [
    "---"
   ]
  },
  {
   "cell_type": "markdown",
   "id": "b900fb28",
   "metadata": {},
   "source": [
    "# Project Overview:\n",
    "\n",
    "\n",
    "This project takes an in depth look at terrorism in Middle Eastern countries and how it has evolved since 2001. In this project, my team and I analyze information from the Global Terrorism Database and build machine learning models to determine what groups are most at risk of being attacked in the Middle East, as well as attempt to accredit previously unattributed attacks."
   ]
  },
  {
   "cell_type": "markdown",
   "id": "a645be55",
   "metadata": {},
   "source": [
    "# Executive Summary:\n",
    "\n",
    "\n",
    "   In our data, we discovered that terrorist attacks in the Middle East increased between 2001 and 2014, utilizing bombing and explosive attacks followed by armed assault, hostage taking, and assassinations. The areas of most attacks were Iraq, Afghanistan, and Pakistan with most active terrorist groups between 2001 and 2017 being ISIL, Al-Qaida, and the Taliban. Finally we discovered the primary targets of these attacks who were the police, the military, private citizens/property, and general government organizations/facilities.\n",
    "\n",
    "   Finally, we created an array of ML Classification models that predicted who's at risk with 47% accuracy, beating baseline by 75%. Also we predicted the perpetrators of unattributed and unknown attacks at 94% accuracy out performing baseline by over 2.5 times."
   ]
  },
  {
   "cell_type": "markdown",
   "id": "44f03c3d",
   "metadata": {},
   "source": [
    "# Project Key Takeaways:\n",
    "- Terrorist attacks have increased in frequency from 2001- 2014, with a sharp increase occuring from 2011 - 2014. After 2014, there began to be a decline in frequency. \n",
    "- The most active terrorist groups are ISIL, Al-Qaida, and the Taliban. \n",
    "- Iraq has had the most active terrorist attacks with over 1600 attacks in 2017 alone, followed by Afghanistan with 862 attacks, and Pakistan with 504 attacks. \n",
    "- The most targeted groups of people were the police, the military, private citizens/property, and general government. \n",
    "    - Most, if not all, terrorist groups targeted these groups of people in some way. \n",
    "- The most prominent type of attacks have been bombing and explosive attacks, followed by armed assault, hostage taking, and assassinations. \n",
    "    - Historically, bombings resulted in the largest amount of wounded people by a large margin. Second to bombing, unarmed assault would be the leading cause of wounded individuals. "
   ]
  },
  {
   "cell_type": "markdown",
   "id": "e8be63c6",
   "metadata": {},
   "source": [
    "---"
   ]
  },
  {
   "cell_type": "markdown",
   "id": "ceb6bcab",
   "metadata": {},
   "source": [
    "## Imports"
   ]
  },
  {
   "cell_type": "code",
   "execution_count": 1,
   "id": "d99e9611",
   "metadata": {},
   "outputs": [
    {
     "ename": "TabError",
     "evalue": "inconsistent use of tabs and spaces in indentation (utilities.py, line 218)",
     "output_type": "error",
     "traceback": [
      "Traceback \u001b[0;36m(most recent call last)\u001b[0m:\n",
      "  File \u001b[1;32m\"/opt/homebrew/anaconda3/lib/python3.9/site-packages/IPython/core/interactiveshell.py\"\u001b[0m, line \u001b[1;32m3444\u001b[0m, in \u001b[1;35mrun_code\u001b[0m\n    exec(code_obj, self.user_global_ns, self.user_ns)\n",
      "\u001b[0;36m  File \u001b[0;32m\"/var/folders/n9/2cn6jhrn6y18fntry1wgdn5m0000gp/T/ipykernel_3198/2167876838.py\"\u001b[0;36m, line \u001b[0;32m34\u001b[0;36m, in \u001b[0;35m<module>\u001b[0;36m\u001b[0m\n\u001b[0;31m    import utilities\u001b[0m\n",
      "\u001b[0;36m  File \u001b[0;32m\"/Users/codyclonts/codeup-data-science/predicting-terrorism/utilities.py\"\u001b[0;36m, line \u001b[0;32m218\u001b[0m\n\u001b[0;31m    fig = px.scatter(train, x = 'year', y = 'wounded', color = 'weap_type', size = 'wounded', title = 'Wounded by Year' )\u001b[0m\n\u001b[0m                                                                                                                         ^\u001b[0m\n\u001b[0;31mTabError\u001b[0m\u001b[0;31m:\u001b[0m inconsistent use of tabs and spaces in indentation\n"
     ]
    }
   ],
   "source": [
    "# numpy and pandas imports\n",
    "import pandas as pd\n",
    "import numpy as np\n",
    "import os\n",
    "\n",
    "# imports for plots\n",
    "import plotly.express as px\n",
    "import plotly.io as pio\n",
    "pio.renderers.default = \"png\"\n",
    "import seaborn as sns\n",
    "import matplotlib.pyplot as plt\n",
    "\n",
    "# sklearn imports\n",
    "from sklearn.model_selection import train_test_split\n",
    "from sklearn.neighbors import KNeighborsClassifier\n",
    "from sklearn.tree import DecisionTreeClassifier, plot_tree\n",
    "from sklearn.ensemble import RandomForestClassifier\n",
    "from sklearn.metrics import classification_report\n",
    "from sklearn.metrics import confusion_matrix\n",
    "from sklearn.metrics import f1_score\n",
    "\n",
    "# stats imports\n",
    "from scipy import stats\n",
    "\n",
    "# utilities\n",
    "import warnings\n",
    "warnings.filterwarnings(\"ignore\")\n",
    "\n",
    "# python functions imports\n",
    "import wrangle as w\n",
    "import explore as e\n",
    "import acquire as a\n",
    "import model as m\n",
    "import utilities"
   ]
  },
  {
   "cell_type": "markdown",
   "id": "0bdda430",
   "metadata": {},
   "source": [
    "# Acquire and Prepare\n",
    "- Data was acquired from local csv, which was downloaded from Kaggle\n",
    "- Initial csv contained information on terrorist attacks throughout the world from 1970 to 2017.\n",
    "- Limited scope to attacks from 2001 - 2017 in Middle Eastern countries\n",
    "- Nulls were dropped from the dataframe\n",
    "- Renamed columns/ lower cased entire df for uniformity and ease of use. "
   ]
  },
  {
   "cell_type": "code",
   "execution_count": null,
   "id": "363b9eda",
   "metadata": {},
   "outputs": [],
   "source": [
    "# acquire the data and prepare it\n",
    "df= w.create_terrorism_df()\n",
    "df.head()"
   ]
  },
  {
   "cell_type": "markdown",
   "id": "9fb2b8cc",
   "metadata": {},
   "source": [
    "## A quick look at how terrorism has changed throughout the years"
   ]
  },
  {
   "cell_type": "code",
   "execution_count": null,
   "id": "275e7b23",
   "metadata": {
    "scrolled": false
   },
   "outputs": [],
   "source": [
    "# create a histogram of the number of attacks by year\n",
    "perp_df = w.get_perpetrator_df()\n",
    "e.terror_rate(perp_df)"
   ]
  },
  {
   "cell_type": "markdown",
   "id": "9bffcc3b",
   "metadata": {},
   "source": [
    "- A quick visualization shows us that the number of attacks increased drastically from 2011 to 2014, but after 2014 the number of attacks sharply declines."
   ]
  },
  {
   "cell_type": "markdown",
   "id": "14cfcba3",
   "metadata": {},
   "source": [
    "# Exploration"
   ]
  },
  {
   "cell_type": "code",
   "execution_count": null,
   "id": "834d8632",
   "metadata": {},
   "outputs": [],
   "source": [
    "# split the data into train, validate, and test subsets. \n",
    "train, validate, test = w.split_data(df)"
   ]
  },
  {
   "cell_type": "markdown",
   "id": "05f3639d",
   "metadata": {},
   "source": [
    "## Which terrorist groups are responsible for the most attacks? "
   ]
  },
  {
   "cell_type": "code",
   "execution_count": null,
   "id": "cb83124d",
   "metadata": {
    "scrolled": true
   },
   "outputs": [],
   "source": [
    "# first get a look at the top terrorist groups\n",
    "df_top_groups = utilities.top_groups(train)\n",
    "df_top_groups.atk_group.value_counts().head(5)"
   ]
  },
  {
   "cell_type": "markdown",
   "id": "afe7f448",
   "metadata": {},
   "source": [
    "### Takeaway:\n",
    "- Here we see that a large number of attacks aren't attributed to any particular terrorist group. We will seek to answer this who was behind these attacks as part of our machine learning portion. After that, the most active terrorist groups are the Taliban, ISIL, and Al-Shabaab"
   ]
  },
  {
   "cell_type": "code",
   "execution_count": null,
   "id": "edd36da7",
   "metadata": {
    "scrolled": false
   },
   "outputs": [],
   "source": [
    "# create a histogram between the number of attacks from each group by year\n",
    "utilities.attacks_by_group_by_year(train)"
   ]
  },
  {
   "cell_type": "markdown",
   "id": "98235418",
   "metadata": {},
   "source": [
    "### Takeaway:\n",
    "- Terrorist attacks were hardly claimed until about 2012, at which point terrorist groups began to claim responsibility. This could be do to the rise of terrorist groups like ISIL (ISIS), or terrorist groups claiming respoinsibility for attacks they didn't actually launch. Claiming attacks drastically increased around the year 2015, in particular for major groups like ISIL and the Taliban."
   ]
  },
  {
   "cell_type": "code",
   "execution_count": null,
   "id": "c0f35b5d",
   "metadata": {
    "scrolled": false
   },
   "outputs": [],
   "source": [
    "# create a bar chart that shows how many people were killed by group by year\n",
    "# hue of country to show what country the groups are active in\n",
    "utilities.killed_by_group_by_year(train)"
   ]
  },
  {
   "cell_type": "markdown",
   "id": "f983d889",
   "metadata": {},
   "source": [
    "- This gives us a better representation of what groups are the most active and in what countries they are active in"
   ]
  },
  {
   "cell_type": "markdown",
   "id": "bfcbc5e1",
   "metadata": {},
   "source": [
    "### Takeaway: \n",
    "- The terrorist groups that are the most active are ISIL, Al-qaida, and the Taliban. A majority of terrorist attacks remain unclaimed."
   ]
  },
  {
   "cell_type": "markdown",
   "id": "f97ddacb",
   "metadata": {},
   "source": [
    "### For future reference, we will create 2 dictionaries. One that divides the data by the different terrorist groups and one that divides the data according to the different countries. "
   ]
  },
  {
   "cell_type": "code",
   "execution_count": null,
   "id": "6bb2d49d",
   "metadata": {},
   "outputs": [],
   "source": [
    "# create a dictionary for the different terrorist groups. \n",
    "terrorist_dict = {}\n",
    "terrorists = train.atk_group.unique()\n",
    "for terrorist in terrorists: \n",
    "    terrorist_dict[terrorist] = train[train.atk_group == terrorist]\n",
    "    terrorist_dict[terrorist] = terrorist_dict[terrorist].sort_values('year')\n",
    "    \n",
    "# ensure that the terrorist group dictionary works properly\n",
    "terrorist_dict['taliban'].head(1)"
   ]
  },
  {
   "cell_type": "code",
   "execution_count": null,
   "id": "2cc8ea8f",
   "metadata": {},
   "outputs": [],
   "source": [
    "# create a dictionary of the different countries\n",
    "country_dict = {}\n",
    "countries = train.country.unique()\n",
    "for country in countries: \n",
    "    country_dict[country] = train[train.country == country]\n",
    "    country_dict[country] = country_dict[country].sort_values('year')\n",
    "    \n",
    "# ensure that the dictionary works properly    \n",
    "country_dict['iraq'].head(1)"
   ]
  },
  {
   "cell_type": "markdown",
   "id": "c3c3648d",
   "metadata": {},
   "source": [
    "## What countries are these groups the most active in?"
   ]
  },
  {
   "cell_type": "code",
   "execution_count": null,
   "id": "f05f27ed",
   "metadata": {},
   "outputs": [],
   "source": [
    "utilities.country_attack_graph(train)"
   ]
  },
  {
   "cell_type": "markdown",
   "id": "09c9c37b",
   "metadata": {},
   "source": [
    "- Here, it can be seen that Iraq, afghanistan, somalia, egypt, and pakistan have the most attacks. "
   ]
  },
  {
   "cell_type": "code",
   "execution_count": null,
   "id": "c7958514",
   "metadata": {},
   "outputs": [],
   "source": [
    "utilities.groups_by_country(train)"
   ]
  },
  {
   "cell_type": "markdown",
   "id": "f1e0a972",
   "metadata": {},
   "source": [
    "- This gives us a better look at just how many attacks are unattributed, as well as what groups are responsible for the most attacks in various countries in the Middle East. \n",
    "- ISIL is responsible for numerous attacks throughout multiple countries. \n",
    "- The Taliban launched over 2600 attacks in Afghanistan alone. \n",
    "- Al-Shabaab was responsible for over 850 attacks in Somalia. \n",
    "- The TTP claimed responsibility for more attacks than any oter group in Pakistan. "
   ]
  },
  {
   "cell_type": "markdown",
   "id": "177fca3e",
   "metadata": {},
   "source": [
    "### Is there a relationship between what country is being attacked and the terrorist groups? "
   ]
  },
  {
   "cell_type": "markdown",
   "id": "4c8ce00f",
   "metadata": {},
   "source": [
    "- Null Hypothesis: There is no relationship between the country that the attacks are occuring in and the groups that are attacking.\n",
    "- Alternative Hypothesis: There is a relationship between the country that the attacks are occuring in and the groups that are attacking."
   ]
  },
  {
   "cell_type": "code",
   "execution_count": null,
   "id": "2ea5a286",
   "metadata": {},
   "outputs": [],
   "source": [
    "# Run a chi2 test to see if there is a relationship between country and terrorist group.\n",
    "# If the p value is less than the alpha value, there is a relationship. \n",
    "utilities.country_group_test(train)"
   ]
  },
  {
   "cell_type": "markdown",
   "id": "2a489814",
   "metadata": {},
   "source": [
    "### Takeaway:\n",
    "- There is a strong relationship between the terrorist groups and the countries. "
   ]
  },
  {
   "cell_type": "markdown",
   "id": "959033b0",
   "metadata": {},
   "source": [
    "## What groups of people are the most targeted by terrorist groups?"
   ]
  },
  {
   "cell_type": "code",
   "execution_count": null,
   "id": "dba45cd0",
   "metadata": {},
   "outputs": [],
   "source": [
    "# First, lets get a look at the groups being attacked overall. \n",
    "utilities.overall_attack_graph(train)"
   ]
  },
  {
   "cell_type": "markdown",
   "id": "124e0719",
   "metadata": {},
   "source": [
    "- At first glance, it looks like private citizens and property are the most targeted, followed by the police, military, and then the general government."
   ]
  },
  {
   "cell_type": "markdown",
   "id": "0229ebd2",
   "metadata": {},
   "source": [
    "#### - Lets take a look at the top 5 most attacked countries to see if there are any outliers of groups being attacked"
   ]
  },
  {
   "cell_type": "code",
   "execution_count": null,
   "id": "2598d6c7",
   "metadata": {
    "scrolled": false
   },
   "outputs": [],
   "source": [
    "# count of groups attacked in iraq\n",
    "utilities.attack_graph(country_dict['iraq'])"
   ]
  },
  {
   "cell_type": "code",
   "execution_count": null,
   "id": "a45c6bf9",
   "metadata": {},
   "outputs": [],
   "source": [
    "# count of groups attacked in pakistan \n",
    "utilities.attack_graph(country_dict['pakistan'])"
   ]
  },
  {
   "cell_type": "code",
   "execution_count": null,
   "id": "b24b4ce9",
   "metadata": {},
   "outputs": [],
   "source": [
    "# count of groups attacked in afghanistan\n",
    "utilities.attack_graph(country_dict['afghanistan'])"
   ]
  },
  {
   "cell_type": "code",
   "execution_count": null,
   "id": "3cd4b54c",
   "metadata": {},
   "outputs": [],
   "source": [
    "# count of groups attacked in somalia\n",
    "utilities.attack_graph(country_dict['somalia'])"
   ]
  },
  {
   "cell_type": "code",
   "execution_count": null,
   "id": "80f8d789",
   "metadata": {},
   "outputs": [],
   "source": [
    "# count of groups attacked in egypt\n",
    "utilities.attack_graph(country_dict['egypt'])"
   ]
  },
  {
   "cell_type": "markdown",
   "id": "7ba1c5bd",
   "metadata": {},
   "source": [
    "- There do not seem to be any major outliers, leaving the top most targeted groups being:\n",
    "    - Police, military, private citizens and property, and the general government"
   ]
  },
  {
   "cell_type": "markdown",
   "id": "90b59784",
   "metadata": {},
   "source": [
    "### Verify there is a statistical relationship between the groups that are attacking and the groups that are being attacked."
   ]
  },
  {
   "cell_type": "markdown",
   "id": "2dae17b8",
   "metadata": {},
   "source": [
    "- Null Hypothesis: There is no relationship between the groups that are being attacked and the terrorist groups.\n",
    "- Alternative Hypothesis: There is a relationship between the groups that are being attacked and the terrorist groups."
   ]
  },
  {
   "cell_type": "code",
   "execution_count": null,
   "id": "d68a62d5",
   "metadata": {},
   "outputs": [],
   "source": [
    "# chi2 test to verify the relationship between the groups. \n",
    "utilities.target_terrorist_relationship_test(train)"
   ]
  },
  {
   "cell_type": "markdown",
   "id": "5e52bd6f",
   "metadata": {},
   "source": [
    "### Takeaway: \n",
    "- There is a statistical relationship between the groups being targeted and the terrorist groups."
   ]
  },
  {
   "cell_type": "markdown",
   "id": "dcc9908d",
   "metadata": {},
   "source": [
    "## What weapons are being the most used? What weapons are the most effective?"
   ]
  },
  {
   "cell_type": "code",
   "execution_count": null,
   "id": "1a27cf94",
   "metadata": {},
   "outputs": [],
   "source": [
    "utilities.wounded_by_year(train)"
   ]
  },
  {
   "cell_type": "markdown",
   "id": "29391622",
   "metadata": {},
   "source": [
    "- Takeaway: explosives tend to cause the most wounds on average, but there are outliers of attacks that caused major wounds such as a chemical attack that wounded 1500 and an incendiary attack that wounded 600"
   ]
  },
  {
   "cell_type": "code",
   "execution_count": null,
   "id": "cac43064",
   "metadata": {
    "scrolled": false
   },
   "outputs": [],
   "source": [
    "utilities.killed_by_year(train)"
   ]
  },
  {
   "cell_type": "markdown",
   "id": "c4804071",
   "metadata": {},
   "source": [
    "### Takeaway: \n",
    "- Explosives seem to cause the most deaths by far, followed by firearms"
   ]
  },
  {
   "cell_type": "markdown",
   "id": "4a3926ad",
   "metadata": {},
   "source": [
    "- Null Hypothesis: There is no relationship between the weapons that are being used and the terrorist groups.\n",
    "- Alternative Hypothesis: There is a relationship between the weapons that are being used and the terrorist groups."
   ]
  },
  {
   "cell_type": "code",
   "execution_count": null,
   "id": "830a4431",
   "metadata": {
    "scrolled": true
   },
   "outputs": [],
   "source": [
    "# run a chi2 test to see if there is a relationship between the weapons used and the terrorist groups\n",
    "utilities.weapon_terrorist_relationship_test(train)"
   ]
  },
  {
   "cell_type": "markdown",
   "id": "1a1329c3",
   "metadata": {},
   "source": [
    "### Takeaway:\n",
    "- There is a relationship between the weapons that are being used and the terrorist groups that are using them. "
   ]
  },
  {
   "cell_type": "markdown",
   "id": "d0e83af9",
   "metadata": {},
   "source": [
    "## When are attacks occuring the most? Does it change by week? Does it change by month?"
   ]
  },
  {
   "cell_type": "code",
   "execution_count": null,
   "id": "574d4dee",
   "metadata": {
    "scrolled": false
   },
   "outputs": [],
   "source": [
    "e.get_attack_day_proba(perp_df)"
   ]
  },
  {
   "cell_type": "markdown",
   "id": "1d572b1f",
   "metadata": {},
   "source": [
    "### Takeaways:\n",
    "- There doesn't seem to be any significance in days and the probability of being attacked"
   ]
  },
  {
   "cell_type": "code",
   "execution_count": null,
   "id": "ab5ff6f5",
   "metadata": {
    "scrolled": false
   },
   "outputs": [],
   "source": [
    "e.get_attack_months(perp_df)"
   ]
  },
  {
   "cell_type": "markdown",
   "id": "2a36ec97",
   "metadata": {},
   "source": [
    "### Perform an Anova statistical test to see if there is a relationship between the month and how many people were killed. "
   ]
  },
  {
   "cell_type": "code",
   "execution_count": null,
   "id": "34e4ab0a",
   "metadata": {},
   "outputs": [],
   "source": [
    "# one-way anova test \n",
    "# null hypothesis - there is no relationship between the month and how many people were killed\n",
    "# alt hypothesis - There is a relationship between the month and number killed. \n",
    "\n",
    "alpha = 0.05\n",
    "F, p = stats.f_oneway(train.month, train.killed)\n",
    "F, p\n",
    "if p < alpha:\n",
    "    print('p = ', p, 'There is a relationship between the two variables')\n",
    "else:\n",
    "    print('There is no relationship between the two variables')"
   ]
  },
  {
   "cell_type": "markdown",
   "id": "ab7a2874",
   "metadata": {},
   "source": [
    "### Takeaway:\n",
    "- There does seem to be a relationship between when attacks happen, how often they occure, and how many people are being killed. On average, it is less probable to be attacked in December than in February. "
   ]
  },
  {
   "cell_type": "markdown",
   "id": "74cbed9f",
   "metadata": {},
   "source": [
    "---"
   ]
  },
  {
   "cell_type": "markdown",
   "id": "effe1468",
   "metadata": {},
   "source": [
    "### Exploration Summary:"
   ]
  },
  {
   "cell_type": "markdown",
   "id": "3a815fae",
   "metadata": {},
   "source": [
    "Increasing over the years, Iraq has had the most active terrorist attacks with over 1600 attacks in 2017 followed by 862 attacks in Afghanistan and 504 in Pakistan\n",
    "&nbsp;\n",
    "\n",
    "A large number of attacks aren't attributed to any particular terrorist group. We will seek to answer this who was behind these attacks as part of our machine learning portion. After that, the most active terrorist groups are the Taliban, ISIL, and Al-Shabaab\n",
    "\n",
    "Historically bombings have results in the largest amount of people wounded by a large margin.\n",
    "Second to Bombing, unarmed assault would be a leading cause of wounded individuals.\n",
    "&nbsp;\n",
    "\n",
    "Bombing/Explosions are the general type of attack across all groups in the middle east.\n",
    "Second to bombing across all groups would be armed assault,\n",
    "followed by hostage taking and assassinations.\n",
    "&nbsp;\n",
    "\n",
    "Type of attacks seem to be normally distributed, and on the cusp of uniform distribution, when observing them by month. Type of attacks are also relatively normally distributed, which is similar to the probability of attacks. \n",
    "&nbsp;\n",
    "\n",
    "Each group that has a significant amount of attacks commit the same type of crimes, although amount may vary due to activity. It can't be said that there is signifigant evidence of one group committing a particular crime only. \n",
    "&nbsp;\n",
    "\n",
    "Terrorist attacks have increased over the years of 2001-2013, however there is a point of degression in attacks after 2014. \n",
    "\n",
    "Terrorist attacks were hardly claimed until about 2012, at which point terrorist groups began to claim responsibility. This could be do to the rise of terrorist groups like ISIL (ISIS), or terrorist groups claiming respoinsibility for attacks they didn't actually launch. Claiming attacks drastically increased around the year 2015, in particular for major groups like ISIL and the Taliban."
   ]
  },
  {
   "cell_type": "markdown",
   "id": "f1deabfb",
   "metadata": {},
   "source": [
    "---"
   ]
  },
  {
   "cell_type": "markdown",
   "id": "771e1145",
   "metadata": {},
   "source": [
    "# Modeling:"
   ]
  },
  {
   "cell_type": "markdown",
   "id": "fb60c79e",
   "metadata": {},
   "source": [
    "### Predicting Targeted Groups\n",
    "- Before we start predicting what groups are most likely to be targeted, it is important to note that a lot of the targeted groups are being:\n",
    "    - targeted by the same terrorist organizations\n",
    "    - attacked by the same kinds of weapons\n",
    "    - attacked in the same general areas (such as country, city, provstate)\n",
    "    - attacked at similar times\n",
    "- This is bound to lead to misidentification by the machine learning model, but there is a lot of room for improvement upon baseline. "
   ]
  },
  {
   "cell_type": "code",
   "execution_count": null,
   "id": "b4ad97cc",
   "metadata": {},
   "outputs": [],
   "source": [
    "# My baseline is going to be 27% since we are trying to predict the most targeted group. \n",
    "# If we predict that the private citizens & property, we are right 28% of the time\n",
    "baseline = round((6883/len(train.target))*100,2)\n",
    "print ('The baseline accuracy is', baseline, '%')\n"
   ]
  },
  {
   "cell_type": "code",
   "execution_count": null,
   "id": "c16b5cbe",
   "metadata": {},
   "outputs": [],
   "source": [
    "# create dummy variables for the train, validate, and test\n",
    "encoded_train, encoded_validate, encoded_test = utilities.model_data()"
   ]
  },
  {
   "cell_type": "code",
   "execution_count": null,
   "id": "34468d38",
   "metadata": {},
   "outputs": [],
   "source": [
    "# Split into X/y train, validate, and split\n",
    "X_train = encoded_train.drop(columns=[\"target\"])\n",
    "y_train = encoded_train.target\n",
    "\n",
    "X_validate = encoded_validate.drop(columns=[\"target\"])\n",
    "y_validate = encoded_validate.target\n",
    "\n",
    "X_test = encoded_test.drop(columns=[\"target\"])\n",
    "y_test = encoded_test.target"
   ]
  },
  {
   "cell_type": "code",
   "execution_count": null,
   "id": "338f5cf2",
   "metadata": {},
   "outputs": [],
   "source": [
    "# after running a few different trials, we found that a random forest model with a max_depth of 18 gave us the best results. \n",
    "final_metrics = []\n",
    "tree = RandomForestClassifier(bootstrap = True, \n",
    "                                  class_weight = None,\n",
    "                                  criterion = 'gini', \n",
    "                                  min_samples_leaf = 3, \n",
    "                                  n_estimators = 150,\n",
    "                                  max_depth=18,\n",
    "                                  random_state=17)\n",
    "\n",
    "\n",
    "tree = tree.fit(X_train, y_train)\n",
    "\n",
    "\n",
    "in_sample_accuracy = tree.score(X_train, y_train)\n",
    "    \n",
    "out_of_sample_accuracy = tree.score(X_validate, y_validate)\n",
    "    \n",
    "test_accuracy = tree.score(X_test, y_test)\n",
    "    \n",
    "output = {\n",
    "        \"max_depth\": 18,\n",
    "        \"train_accuracy\": in_sample_accuracy,\n",
    "        \"validate_accuracy\": out_of_sample_accuracy,\n",
    "        \"test_accuracy\": test_accuracy\n",
    "    }\n",
    "    \n",
    "final_metrics.append(output)\n",
    "    \n",
    "rf_df = pd.DataFrame(final_metrics)\n",
    "rf_df"
   ]
  },
  {
   "cell_type": "markdown",
   "id": "3c958d4a",
   "metadata": {},
   "source": [
    "- A max depth of 18 gave us a 52% accuracy on train data, a 47% accuracy on validate data, and a 48% accuracy on test data. "
   ]
  },
  {
   "cell_type": "markdown",
   "id": "df1bcc4c",
   "metadata": {},
   "source": [
    "## Predicting Perpetrators:"
   ]
  },
  {
   "cell_type": "markdown",
   "id": "f8f3d80e",
   "metadata": {},
   "source": [
    "A large number of Terrorist Attacks weren't attributed to any particular terrorist group. This covered about 63% of our data. \n",
    "\n",
    "We will seek to answer this who was behind these attacks. "
   ]
  },
  {
   "cell_type": "markdown",
   "id": "2ce82442",
   "metadata": {},
   "source": [
    "To start, we will create a dataframe that controls for features that can predict Attackers. The features controlled for are:\n",
    "\n",
    "- group name\n",
    "- number of fatal injuries\n",
    "- city\n",
    "- providence/state\n",
    "- year\n",
    "- country\n",
    "- suicide (y/n)\n",
    "- attack type\n",
    "- target\n",
    "- and weapon"
   ]
  },
  {
   "cell_type": "markdown",
   "id": "0c00dbfc",
   "metadata": {},
   "source": [
    "#### Our target variable will be the group name as it is what we want to attribute to the unknown. "
   ]
  },
  {
   "cell_type": "code",
   "execution_count": null,
   "id": "e2a19a4f",
   "metadata": {},
   "outputs": [],
   "source": [
    "df1, df2, df3 = m.create_model_df()\n",
    "df1.head(1)"
   ]
  },
  {
   "cell_type": "markdown",
   "id": "5bcfe2fb",
   "metadata": {},
   "source": [
    "#### Now, we must align the dataframes so that they can properly fit through the model to create accurate predictions"
   ]
  },
  {
   "cell_type": "code",
   "execution_count": null,
   "id": "8971f100",
   "metadata": {},
   "outputs": [],
   "source": [
    "df1, df2 = m.loop_boop(df1,df2)\n",
    "\n",
    "# scaling functions and columns to match\n",
    "gnames1, nkills1 = m.scaling_func(df1)\n",
    "\n",
    "# scaling functions and columns to match\n",
    "gnames2, nkills2 = m.scaling_func(df2)\n",
    "\n",
    "dummy_df = m.dummy_df(df1, gnames1, nkills1)\n",
    "\n",
    "dummy_df2 = m.dummy_df(df2, gnames2, nkills2)\n",
    "\n",
    "print('Our first dataframe size is:', dummy_df.shape)\n",
    "print('Our second dataframe size is:',dummy_df2.shape)"
   ]
  },
  {
   "cell_type": "markdown",
   "id": "c2ccc010",
   "metadata": {},
   "source": [
    "### Now creating the Model :\n",
    "\n",
    "We performed operations on a K-Nearest Neighbor and a Random Forest Model, however, they weren't productive making accurate predictions for our observation. Our best model was the `Decision Tree Classifier Model with a Max Depth of 5.`"
   ]
  },
  {
   "cell_type": "code",
   "execution_count": null,
   "id": "9772fda4",
   "metadata": {},
   "outputs": [],
   "source": [
    "# split into train, validate, test\n",
    "train1, validate1, test1 = m.train_validate_test_split(dummy_df, target='gname', seed=123)\n",
    "\n",
    "# create X & y version of train, where y is a series with just the target variable and X are all the features. \n",
    "\n",
    "X_train1= train1.drop(columns=['gname'])\n",
    "y_train1 = train1.gname\n",
    "\n",
    "X_validate1 = validate1.drop(columns=['gname'])\n",
    "y_validate1 = validate1.gname\n",
    "\n",
    "X_test1 = test1.drop(columns=['gname'])\n",
    "y_test1 = test1.gname"
   ]
  },
  {
   "cell_type": "code",
   "execution_count": null,
   "id": "3624f13b",
   "metadata": {},
   "outputs": [],
   "source": [
    "# My baseline is going to be 27% since we are trying to predict the most targeted group. \n",
    "# If we predict that the private citizens & property, we are right 28% of the time\n",
    "baseline1 = round((len(train1.gname))/100,2)\n",
    "print ('The baseline accuracy is', baseline1, '%')"
   ]
  },
  {
   "cell_type": "code",
   "execution_count": null,
   "id": "4c3e839a",
   "metadata": {},
   "outputs": [],
   "source": [
    "# for classification you can change the algorithm to gini or entropy (information gain).  \n",
    "# Default is gini.\n",
    "\n",
    "clf = DecisionTreeClassifier(max_depth=5, random_state=123)\n",
    "\n",
    "# model.fit(X, y)\n",
    "\n",
    "clf = clf.fit(X_train1, y_train1)\n",
    "\n",
    "# make prediction on train obeservations\n",
    "\n",
    "y_pred = clf.predict(X_train1)\n",
    "\n",
    "# y_pred_proba = clf.predict_proba(X_train2)\n",
    "\n",
    "# Eval model\n",
    "print('Accuracy of Decision Tree classifier on training set: {:.2f}'\n",
    "      .format(clf.score(X_train1, y_train1)))"
   ]
  },
  {
   "cell_type": "markdown",
   "id": "665bfefd",
   "metadata": {},
   "source": [
    "## In-Sample Accuracy: 94% "
   ]
  },
  {
   "cell_type": "markdown",
   "id": "0d1d54cd",
   "metadata": {},
   "source": [
    "#### Now, we will test the model on out-of-sample test data."
   ]
  },
  {
   "cell_type": "code",
   "execution_count": null,
   "id": "70c03095",
   "metadata": {},
   "outputs": [],
   "source": [
    "tree = DecisionTreeClassifier(max_depth=5, random_state=123)\n",
    "\n",
    "tree = tree.fit(X_train1, y_train1)\n",
    "\n",
    "tree.score(X_test1, y_test1)"
   ]
  },
  {
   "cell_type": "markdown",
   "id": "63682bac",
   "metadata": {},
   "source": [
    "## Out-of-sample Test Data: 93.4%"
   ]
  },
  {
   "cell_type": "markdown",
   "id": "ff519c4c",
   "metadata": {},
   "source": [
    "---"
   ]
  },
  {
   "cell_type": "markdown",
   "id": "9d87a820",
   "metadata": {},
   "source": [
    "### Our Decision Tree:"
   ]
  },
  {
   "cell_type": "code",
   "execution_count": null,
   "id": "e581aad9",
   "metadata": {
    "scrolled": true
   },
   "outputs": [],
   "source": [
    "plot_tree(clf, feature_names=X_train1.columns, class_names=clf.classes_, rounded=True)\n",
    "plt.figure(figsize=(25, 15))"
   ]
  },
  {
   "cell_type": "markdown",
   "id": "64a8c41f",
   "metadata": {},
   "source": [
    "---"
   ]
  },
  {
   "cell_type": "markdown",
   "id": "64f2b23d",
   "metadata": {},
   "source": [
    "## With a Decision Tree Classifier:\n",
    "#### And a Max Depth of 5:\n",
    "- We were able to create a model that performed with 94% accuracy on in-sample trained data, and 93% accuracy on out-of-sample test data."
   ]
  },
  {
   "cell_type": "markdown",
   "id": "776014f8",
   "metadata": {},
   "source": [
    "---"
   ]
  },
  {
   "cell_type": "markdown",
   "id": "2bc8f049",
   "metadata": {},
   "source": [
    "# Conclusions:\n",
    "\n",
    "We were able to maneuver through 2001 and 2017 terrorism data to find out:\n",
    "- Who was most at rist of terrorist attacks\n",
    "- Who were the most likely perpetrators of the unattributed attacks\n",
    "\n",
    "by controlling for features of terror attacks in the Middle East that would aid in prediction. "
   ]
  },
  {
   "cell_type": "markdown",
   "id": "74a6441e",
   "metadata": {},
   "source": [
    "To do this, we created an array of Machine Learning models which ultimately lead to the Decision Tree Classifier and Random Forest yielding the best results. \n",
    "\n",
    "In regards to finding \"Who were most at risk of terrorist attacks\" and the Random Forest Model we achieved:\n",
    "- 52% Accuracy on Training In-Sample Data\n",
    "- 47% Accuracy on Test Out-of-Sample Data\n",
    "\n",
    "As for the finding \"Who were most likely the perpetrators of unattributed attacks, we achieved:\n",
    "- 94% Accuracy on Training In-Sample Data\n",
    "- 93% Accuracy on Test Out-of-Sample Data"
   ]
  },
  {
   "cell_type": "markdown",
   "id": "615532fa",
   "metadata": {},
   "source": [
    "## Our Next Steps:\n",
    "We find benefit in fitting more terrorist groups in our model for discovering the perpetrators of unattributed attacks as, while generally accurate, could use the features for better decision making and precision. \n",
    "\n",
    "Lastly, To take this project further, we would like to recreate the project on the scale of Global Terrorism. "
   ]
  },
  {
   "cell_type": "markdown",
   "id": "7d738e2b",
   "metadata": {},
   "source": [
    "# End"
   ]
  },
  {
   "cell_type": "code",
   "execution_count": null,
   "id": "8dd6a0cb",
   "metadata": {},
   "outputs": [],
   "source": []
  }
 ],
 "metadata": {
  "kernelspec": {
   "display_name": "Python 3 (ipykernel)",
   "language": "python",
   "name": "python3"
  },
  "language_info": {
   "codemirror_mode": {
    "name": "ipython",
    "version": 3
   },
   "file_extension": ".py",
   "mimetype": "text/x-python",
   "name": "python",
   "nbconvert_exporter": "python",
   "pygments_lexer": "ipython3",
   "version": "3.9.7"
  }
 },
 "nbformat": 4,
 "nbformat_minor": 5
}
